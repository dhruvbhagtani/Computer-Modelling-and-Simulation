{
 "cells": [
  {
   "cell_type": "code",
   "execution_count": 1,
   "metadata": {
    "nbgrader": {
     "grade": false,
     "grade_id": "Exercise1",
     "locked": true,
     "schema_version": 1,
     "solution": false
    }
   },
   "outputs": [
    {
     "name": "stdout",
     "output_type": "stream",
     "text": [
      "The tikzmagic module is not an IPython extension.\n"
     ]
    }
   ],
   "source": [
    "%load_ext tikzmagic"
   ]
  },
  {
   "cell_type": "code",
   "execution_count": 90,
   "metadata": {},
   "outputs": [
    {
     "data": {
      "application/javascript": [
       "MathJax.Hub.Config({\n",
       "    TeX: { equationNumbers: { autoNumber: \"AMS\" } }\n",
       "});\n",
       "\n",
       "MathJax.Hub.Queue(\n",
       "  [\"resetEquationNumbers\", MathJax.InputJax.TeX],\n",
       "  [\"PreProcess\", MathJax.Hub],\n",
       "  [\"Reprocess\", MathJax.Hub]\n",
       ");\n"
      ],
      "text/plain": [
       "<IPython.core.display.Javascript object>"
      ]
     },
     "metadata": {},
     "output_type": "display_data"
    }
   ],
   "source": [
    "%%javascript\n",
    "MathJax.Hub.Config({\n",
    "    TeX: { equationNumbers: { autoNumber: \"AMS\" } }\n",
    "});\n",
    "\n",
    "MathJax.Hub.Queue(\n",
    "  [\"resetEquationNumbers\", MathJax.InputJax.TeX],\n",
    "  [\"PreProcess\", MathJax.Hub],\n",
    "  [\"Reprocess\", MathJax.Hub]\n",
    ");"
   ]
  },
  {
   "cell_type": "markdown",
   "metadata": {},
   "source": [
    "I. We derived the entries of the tridiagonal circulant matrix by local polynomial interpolation. Derive the entries of the pentadiagonal circulant matrix in the same manner."
   ]
  },
  {
   "cell_type": "markdown",
   "metadata": {
    "collapsed": true,
    "nbgrader": {
     "grade": true,
     "grade_id": "Solution1",
     "locked": false,
     "points": 0,
     "schema_version": 1,
     "solution": true
    }
   },
   "source": [
    "For the trigonal circulant matrix, we derived the interpolant, $p_j(x)$ as a function of three points in the domain. To derive the pentagonal circulant matrix, $p_j(x)$ has to be a function of 5 points. Let us say that we have a uniform grid {$x_1, x_2,...,x_N$} having equal spacing with $x_{j+1} - x_j = h$ for each j, and every point has a corresponding value {$u_1, u_2,...,u_N$}.\n",
    "\n",
    "Consider a point $xj$ in the domain, where $3\\leq j \\leq N-2$. To obtain the derivative of j at this point, we obtain an interpolant considering 5 points, $x_{j-2}, x_{j-1}, x_{j}, x_{j+1}$ and $x_{j+2}$. The interpolant can be written in the form :\n",
    "\n",
    "\\begin{equation}\n",
    "p_j(x) = u_{j-2}a_{-2}(x) + u_{j-1}a_{-1}(x) + u_{j}a_{0}(x) + u_{j+1}a_{1}(x) + u_{j+2}a_{2}(x)\n",
    "\\end{equation}\n",
    "\n",
    "where \n",
    "$a_{-2}(x) = \\frac{(x-x_{j-1})(x-x_{j})(x-x_{j+1})(x-x_{j+2})}{(x_{j-2}-x_{j-1})(x_{j-2}-x_{j})(x_{j-2}-x_{j+1})(x_{j-2}-x_{j+2})}$\n",
    "\n",
    "$a_{-1}(x) = \\frac{(x-x_{j-2})(x-x_{j})(x-x_{j+1})(x-x_{j+2})}{(x_{j-1}-x_{j-2})(x_{j-1}-x_{j})(x_{j-1}-x_{j+1})(x_{j-1}-x_{j+2})}$\n",
    "\n",
    "$a_{0}(x) = \\frac{(x-x_{j-2})(x-x_{j-1})(x-x_{j+1})(x-x_{j+2})}{(x_{j}-x_{j-2})(x_{j}-x_{j-1})(x_{j}-x_{j+1})(x_{j}-x_{j+2})}$\n",
    "\n",
    "$a_{1}(x) = \\frac{(x-x_{j-2})(x-x_{j-1})(x-x_{j})(x-x_{j+2})}{(x_{j+1}-x_{j-2})(x_{j+1}-x_{j-1})(x_{j+1}-x_{j})(x_{j+2}-x_{j+1})}$\n",
    "\n",
    "$a_{2}(x) = \\frac{(x-x_{j-2})(x-x_{j-1})(x-x_{j})(x-x_{j+1})}{(x_{j+2}-x_{j-2})(x_{j+2}-x_{j-1})(x_{j+2}-x_{j})(x_{j+2}-x_{j+1})}$\n",
    "\n",
    "Now, since the grid is uniform, the denominators of each of these terms can be written in terms of h.\n",
    "\n",
    "$a_{-2}(x) = \\frac{(x-x_{j-1})(x-x_{j})(x-x_{j+1})(x-x_{j+2})}{(-h)(-2h)(-3h)(-4h)}$\n",
    "\n",
    "$a_{-1}(x) = \\frac{(x-x_{j-2})(x-x_{j})(x-x_{j+1})(x-x_{j+2})}{(h)(-h)(-2h)(-3h)}$\n",
    "\n",
    "$a_{0}(x) = \\frac{(x-x_{j-2})(x-x_{j-1})(x-x_{j+1})(x-x_{j+2})}{(2h)(h)(-h)(-2h)}$\n",
    "\n",
    "$a_{1}(x) = \\frac{(x-x_{j-2})(x-x_{j-1})(x-x_{j})(x-x_{j+2})}{(3h)(2h)(h)(-h)}$\n",
    "\n",
    "$a_{2}(x) = \\frac{(x-x_{j-2})(x-x_{j-1})(x-x_{j})(x-x_{j+1})}{(4h)(3h)(2h)(h)}$\n",
    "\n",
    "Differentiating $p_j(x)$ at $x_j$, we get\n",
    "\n",
    "\\begin{equation}\n",
    "p_j'(x_j) = \\frac{\\frac{-1}{12}u_{j+2} + \\frac{2}{3}u_{j+1} + \\frac{-2}{3}u_{j-1} + \\frac{1}{12}u_{j-2}}{h}\n",
    "\\end{equation}\n",
    "\n",
    "Varying j along the entire grid, we can obtain the pentadiagonal matrix, as described below:\n",
    "\n",
    "\\begin{gather}\n",
    "\\begin{bmatrix}\n",
    "w_1\\\\\n",
    "w_2\\\\\n",
    "\\vdots\\\\\n",
    "w_{N-1}\\\\\n",
    "w_{N}\\\\\n",
    "\\end{bmatrix}\n",
    "= \n",
    " \\begin{bmatrix}\n",
    "0&\\frac{2}{3}&\\ddots & & &\\frac{1}{12} & \\frac{-2}{3}\\\\\n",
    "\\frac{-2}{3}&0&\\ddots & \\frac{-1}{12} & &\\\\\n",
    " & & \\ddots & \\frac{2}{3}\\\\\n",
    " & & \\ddots & 0 & &\\\\\n",
    " &  & & \\vdots \\\\\n",
    "\\end{bmatrix}\n",
    "\\begin{bmatrix}\n",
    "u_1\\\\\n",
    "u_2\\\\\n",
    "\\vdots\\\\\n",
    "u_{N-1}\\\\\n",
    "u_N\\\\\n",
    "\\end{bmatrix}\n",
    "\\end{gather}"
   ]
  },
  {
   "cell_type": "markdown",
   "metadata": {
    "nbgrader": {
     "grade": false,
     "grade_id": "Exercise2",
     "locked": true,
     "schema_version": 1,
     "solution": false
    }
   },
   "source": [
    "II. $\\newcommand{\\bkt}[1]{\\left(#1\\right)}$\n",
    "Show that the matrix dense matrix\n",
    "\\begin{align}\n",
    "D_N(i,j) & = \\begin{cases}\n",
    "\\bkt{-1}^{i-j} \\dfrac12 \\cot \\bkt{\\dfrac{(i-j)h}2} & \\text{if } i \\neq j\\\\\n",
    "0 & \\text{if }i=j\n",
    "\\end{cases}\n",
    "\\end{align}\n",
    "is circulant."
   ]
  },
  {
   "cell_type": "markdown",
   "metadata": {
    "collapsed": true,
    "nbgrader": {
     "grade": true,
     "grade_id": "Solution2",
     "locked": false,
     "points": 0,
     "schema_version": 1,
     "solution": true
    }
   },
   "source": [
    "A circulant matrix is a matrix wherein each row vector is rotated one element to the right relative to the preceding row vector.\n",
    "\n",
    "The dense matrix can be represented as:\n",
    "$D_N = \n",
    "\\begin{gather}\n",
    "h^{-1}\n",
    "\\begin{bmatrix}\n",
    "0&\\frac{1}{2}cot{\\frac{h}{2}} & \\frac{-1}{2}cot{\\frac{2h}{2}} \\dots\\\\\n",
    "\\frac{-1}{2}cot{\\frac{h}{2}} & 0 & \\frac{1}{2}cot{\\frac{h}{2}} \\dots \\\\\n",
    "\\frac{1}{2}cot{\\frac{2h}{2}} & \\frac{-1}{2}cot{\\frac{h}{2}} & 0 \\dots \\\\\n",
    "\\vdots & \\vdots & \\vdots \\\\ \n",
    "\\end{bmatrix}\n",
    "\\end{gather}\n",
    "$\n",
    "\n",
    "h, the stepping interval, is assumed to be small for this case.\n",
    "\n",
    "From the definition of circulant matrix, if each element is pushed tho the right by one step relative to the previous row vector, then if we consider a particular element, let's say $D_n(i,j) = (-1)^{i-j}\\frac{1}{2}cot\\big(\\frac{(i-j)h}{2}\\big)$, then that element in the next row will be equal to $D_n$ which will be shifted by one step to the right. In mathematical terms, it means that i and j are increased by one in the successive row. Therefore,\n",
    "\n",
    "\\begin{equation}\n",
    "D_n(i+1,j+1) = (-1)^{(i+1)-(j+1)}\\frac{1}{2}cot\\big(\\frac{((i+1)-(j+1))h}{2}\\big)\n",
    "\\end{equation}\n",
    "\n",
    "Clearly, $D_n(i+1,j+1) = D_n(i,j)$.\n",
    "\n",
    "This proves for all the elements ranging from the second till the last column. However, the proof doesn't tell us how the entries of the first column are derived. For this, let us consider any row, say  ith row. The last element will be equal to \n",
    "\\begin{equation}\n",
    "(-1)^{i-N}\\frac{1}{2}cot\\Bigg(\\frac{(i-N)h}{2}\\Bigg)\n",
    "\\end{equation}\n",
    "\n",
    "or\n",
    "\n",
    "\\begin{equation}\n",
    "(-1)^{(i+1)-N}\\frac{1}{2}cot\\Bigg(\\frac{(N-i)h}{2}\\Bigg)\n",
    "\\end{equation}\n",
    "\n",
    "Consider the (i+1)th row's first element\n",
    "\\begin{equation}\n",
    "(-1)^{(i+1)-1}\\frac{1}{2}cot\\Bigg(\\frac{((i+1)-1)h}{2}\\Bigg)\n",
    "\\end{equation}\n",
    "\n",
    "Consider N as even for simplicity. The function u(x) is periodic, however, since there is a /2 term in the equations above, it means that the domain has been reduced to half, the cot terms in both the situations are equal in magnitude, but have opposite signs at places just before $-\\pi/2$ and just before $\\pi/2$.\n",
    "\n",
    "By this logic, the above two equations are the same. "
   ]
  },
  {
   "cell_type": "markdown",
   "metadata": {
    "nbgrader": {
     "grade": false,
     "grade_id": "Exercise3",
     "locked": true,
     "schema_version": 1,
     "solution": false
    }
   },
   "source": [
    "III. The error in the third output we discussed in the class, (i.e., the error for the spectral derivative on $e^{\\sin(x)}$) lie in pairs.\n",
    "<ul>\n",
    "<li>\n",
    "Why?\n",
    "<li>\n",
    "What property of $e^{\\sin(x)}$ gives rise to this behavior?\n",
    "</ul>"
   ]
  },
  {
   "cell_type": "markdown",
   "metadata": {
    "collapsed": true,
    "nbgrader": {
     "grade": true,
     "grade_id": "Solution3",
     "locked": false,
     "points": 0,
     "schema_version": 1,
     "solution": true
    }
   },
   "source": [
    "The points lie in pairs because $sin(x)$ is an odd function and therefore, the value of $e^{sin(x)}$ at points where x~0 will be equal to 1 approximately. Since $sin(x)$ is an odd function, we "
   ]
  },
  {
   "cell_type": "markdown",
   "metadata": {
    "nbgrader": {
     "grade": false,
     "grade_id": "Exercise4",
     "locked": true,
     "schema_version": 1,
     "solution": false
    }
   },
   "source": [
    "IV. Run the program in Chapter $1$, where we approximated the derivative by fourth order central difference, for large values of $N$ say $N=2^{16}$.\n",
    "<ul>\n",
    "<li>\n",
    "What happens to the plot of error versus $N$?\n",
    "<li>\n",
    "Why?\n",
    "<li>\n",
    "Import the python library \"time\" and use \"time.clock()\" method to measure the time taken as a function of $N$.\n",
    "<li>\n",
    "Plot the time taken as a function of $N$.\n",
    "<li> Is the dependence linear, quadratic or cubic?"
   ]
  },
  {
   "cell_type": "code",
   "execution_count": 9,
   "metadata": {
    "nbgrader": {
     "grade": true,
     "grade_id": "Solution4",
     "locked": false,
     "points": 0,
     "schema_version": 1,
     "solution": true
    }
   },
   "outputs": [
    {
     "data": {
      "image/png": "[encoded data removed]",
      "text/plain": [
       "<Figure size 432x288 with 1 Axes>"
      ]
     },
     "metadata": {
      "needs_background": "light"
     },
     "output_type": "display_data"
    }
   ],
   "source": [
    "# Program 1\n",
    "# Accuracy of fourth order central difference for various N, set up grid in $[-\\pi,\\pi]$ and function u(x):\n",
    "import scipy as sp\n",
    "from scipy import sparse\n",
    "from scipy.linalg import circulant\n",
    "n      = 2**sp.arange(3,16);\n",
    "error = sp.zeros(sp.size(n));\n",
    "for k in range(0,sp.size(n)):\n",
    "    N           = n[k];\n",
    "    h           = 2*sp.pi/N;\n",
    "    x           = -sp.pi+sp.arange(1,N+1)*h;\n",
    "    u           = sp.exp(sp.sin(x));\n",
    "    uprime   = sp.cos(x)*u;\n",
    "    v           = sp.zeros(N);\n",
    "    v[1]       = -8;\n",
    "    v[-1]      = 8;\n",
    "    v[2]       = 1;\n",
    "    v[-2]      = -1;\n",
    "    D           = sparse.csr_matrix(circulant(v));\n",
    "    du          = D.dot(u)/12/h;\n",
    "    error[k]  = sp.amax(du-uprime);\n",
    "\n",
    "import matplotlib.pyplot as plt\n",
    "plt.loglog(n,error,'+', label='Error')\n",
    "plt.loglog(n,1/n**4,'-', label='h^4')\n",
    "plt.xlabel('Number of points');\n",
    "plt.ylabel('Error');\n",
    "plt.legend();\n",
    "plt.title('Fourth order convergence of the finite difference');\n",
    "plt.show()"
   ]
  },
  {
   "cell_type": "markdown",
   "metadata": {},
   "source": [
    "As N increases, technically, the error should decrease, which is shown above. However, as the size of the derivative approximation matrix increases, the compuatation also increases by a significant margin. While dealing with such large matrices(of the order of $10^4$, the error conditioning reduces. This is partly the reason why spectral matrices are able to achieve higher accuracy, whereas finite difference methods fail to achieve the same accuracy. "
   ]
  },
  {
   "cell_type": "code",
   "execution_count": 124,
   "metadata": {},
   "outputs": [
    {
     "data": {
      "image/png": "[encoded data removed]",
      "text/plain": [
       "<Figure size 432x288 with 1 Axes>"
      ]
     },
     "metadata": {
      "needs_background": "light"
     },
     "output_type": "display_data"
    }
   ],
   "source": [
    "import scipy as sp\n",
    "import time as tm\n",
    "from scipy import sparse\n",
    "from scipy.linalg import circulant\n",
    "n      = 2**sp.arange(3,16);\n",
    "error = sp.zeros(sp.size(n));\n",
    "i = 0\n",
    "tdiff = sp.zeros(sp.size(n));\n",
    "for k in range(0,sp.size(n)):\n",
    "    t1 = tm.process_time();\n",
    "    N           = n[k];\n",
    "    h           = 2*sp.pi/N;\n",
    "    x           = -sp.pi+sp.arange(1,N+1)*h;\n",
    "    u           = sp.exp(sp.sin(x));\n",
    "    uprime   = sp.cos(x)*u;\n",
    "    v           = sp.zeros(N);\n",
    "    v[1]       = -8;\n",
    "    v[-1]      = 8;\n",
    "    v[2]       = 1;\n",
    "    v[-2]      = -1;\n",
    "    D           = sparse.csr_matrix(circulant(v));\n",
    "    du          = D.dot(u)/12/h;\n",
    "    error[k]  = sp.amax(du-uprime);\n",
    "    t2 = tm.process_time();\n",
    "    tdiff[i] = t2-t1;\n",
    "    i = i+1;\n",
    "import matplotlib.pyplot as plt\n",
    "plt.plot(n,tdiff);\n",
    "plt.xlabel('Time(seconds)');\n",
    "plt.ylabel('Size of differentation Matrix');\n",
    "plt.title('Time taken for fourth order convergence');\n",
    "plt.show();"
   ]
  },
  {
   "cell_type": "markdown",
   "metadata": {},
   "source": [
    "Initially, the the time taken increases as an order greater than 1, but after a while, it increases linearly, hence the dependence is linear. "
   ]
  },
  {
   "cell_type": "markdown",
   "metadata": {
    "nbgrader": {
     "grade": false,
     "grade_id": "Exercise5",
     "locked": true,
     "schema_version": 1,
     "solution": false
    }
   },
   "source": [
    "V. Execute the three programs from Chapter $1$ with $e^{\\sin(x)}$ replaced by $e^{\\sin^2(x)}$ and $e^{\\sin(x)\\lvert sin(x) \\rvert}$. Make sure to change **uprime** accordingly. What rates of convergence do you observe? Comment."
   ]
  },
  {
   "cell_type": "markdown",
   "metadata": {},
   "source": [
    "Program 1 : $e^{sin^2(x)}$ for Second Order\n",
    "\n",
    "Program 2 : $e^{sin^2(x)}$ for Fourth Order\n",
    "\n",
    "Program 3 : $e^{sin^2(x)}$ for Spectral Method\n",
    "\n",
    "Program 4 : $e^{sin(x)\\vert sin(x) \\vert}$ for Second Order\n",
    "\n",
    "Program 5 : $e^{sin(x)\\vert sin(x) \\vert}$ for Fourth Order\n",
    "\n",
    "Program 6 : $e^{sin(x)\\vert sin(x) \\vert}$ for Spectral Method (by taking modulus within)\n",
    "\n",
    "Program 7 : $e^{sin(x)\\vert sin(x) \\vert}$ for Spectral Method (by dividing the region into two parts and finding separately)\n",
    "\n",
    "Program 6 and 7 give us the same results."
   ]
  },
  {
   "cell_type": "code",
   "execution_count": 97,
   "metadata": {
    "nbgrader": {
     "grade": true,
     "grade_id": "Solution5",
     "locked": false,
     "points": 0,
     "schema_version": 1,
     "solution": true
    }
   },
   "outputs": [
    {
     "data": {
      "image/png": "[encoded data removed]",
      "text/plain": [
       "<Figure size 432x288 with 1 Axes>"
      ]
     },
     "metadata": {
      "needs_background": "light"
     },
     "output_type": "display_data"
    }
   ],
   "source": [
    "# Program 1\n",
    "\n",
    "import scipy as sp\n",
    "from scipy import sparse\n",
    "from scipy.linalg import circulant\n",
    "n      = 2**sp.arange(3,16);\n",
    "error = sp.zeros(sp.size(n));\n",
    "for k in range(0,sp.size(n)):\n",
    "    N           = n[k];\n",
    "    h           = 2*sp.pi/N;\n",
    "    x           = -sp.pi+sp.arange(1,N+1)*h;\n",
    "    u           = sp.exp(sp.sin(x)*(sp.sin(x)));\n",
    "    uprime      = (sp.sin(2*x))*u;\n",
    "    v           = sp.zeros(N);\n",
    "    v[1]        = -1/2;\n",
    "    v[-1]       = 1/2;\n",
    "    D           = sparse.csr_matrix(circulant(v));\n",
    "    du          = D.dot(u)/h;\n",
    "    error[k]  = sp.amax(du-uprime);\n",
    "\n",
    "import matplotlib.pyplot as plt\n",
    "plt.loglog(n,error,'+', label='Error')\n",
    "plt.loglog(n,1/n**2,'-', label='h^2')\n",
    "plt.xlabel('Number of points');\n",
    "plt.ylabel('Error');\n",
    "plt.legend();\n",
    "plt.title('Second order convergence of the finite difference');\n",
    "plt.show();"
   ]
  },
  {
   "cell_type": "code",
   "execution_count": 125,
   "metadata": {},
   "outputs": [
    {
     "data": {
      "image/png": "[encoded data removed]",
      "text/plain": [
       "<Figure size 432x288 with 1 Axes>"
      ]
     },
     "metadata": {
      "needs_background": "light"
     },
     "output_type": "display_data"
    }
   ],
   "source": [
    "# Program 2\n",
    "\n",
    "import scipy as sp\n",
    "from scipy import sparse\n",
    "from scipy.linalg import circulant\n",
    "n      = 2**sp.arange(3,12);\n",
    "error = sp.zeros(sp.size(n));\n",
    "for k in range(0,sp.size(n)):\n",
    "    N           = n[k];\n",
    "    h           = 2*sp.pi/N;\n",
    "    x           = -sp.pi+sp.arange(1,N+1)*h;\n",
    "    u           = sp.exp(sp.sin(x)*(sp.sin(x)));\n",
    "    uprime      = (sp.sin(2*x))*u;\n",
    "    v           = sp.zeros(N);\n",
    "    v[1]       = -8;\n",
    "    v[-1]      = 8;\n",
    "    v[2]       = 1;\n",
    "    v[-2]      = -1;\n",
    "    D           = sparse.csr_matrix(circulant(v));\n",
    "    du          = D.dot(u)/12/h;\n",
    "    error[k]  = sp.amax(du-uprime);\n",
    "\n",
    "import matplotlib.pyplot as plt\n",
    "plt.loglog(n,error,'+', label='Error')\n",
    "plt.loglog(n,1/n**4,'-', label='h^4')\n",
    "plt.xlabel('Number of points');\n",
    "plt.ylabel('Error');\n",
    "plt.legend();\n",
    "plt.title('Fourth order convergence of the finite difference');\n",
    "plt.show()"
   ]
  },
  {
   "cell_type": "code",
   "execution_count": 98,
   "metadata": {},
   "outputs": [
    {
     "data": {
      "image/png": "[encoded data removed]",
      "text/plain": [
       "<Figure size 432x288 with 1 Axes>"
      ]
     },
     "metadata": {
      "needs_background": "light"
     },
     "output_type": "display_data"
    }
   ],
   "source": [
    "# Program 3\n",
    "\n",
    "import scipy as sp\n",
    "from scipy import linalg\n",
    "n      = sp.arange(4,45,2);\n",
    "error = sp.zeros(sp.size(n));\n",
    "for k in range(0,sp.size(n)):\n",
    "    N           = n[k];\n",
    "    h           = 2*sp.pi/N;\n",
    "    x           = -sp.pi+sp.arange(1,N+1)*h;\n",
    "    u           = sp.exp(sp.sin(x)*sp.sin(x));\n",
    "    uprime      = sp.sin(2*x)*u;\n",
    "    vec           = sp.zeros(N);\n",
    "    vec[1:N]   = (-1)**sp.arange(1,N)/sp.tan(sp.arange(1,N)*h/2);\n",
    "    D           = sp.linalg.circulant(vec);\n",
    "    du          = 0.5*D.dot(u);\n",
    "    error[k]    = sp.amax(du-uprime);\n",
    "\n",
    "import matplotlib.pyplot as plt\n",
    "plt.loglog(n,error,'+', label='Error')\n",
    "plt.xlabel('Number of points');\n",
    "plt.ylabel('Error');\n",
    "plt.legend();\n",
    "plt.title('Convergence of spectral derivative');\n",
    "plt.show();\n",
    "\n",
    "#Sometimes the graphs are not getting printed, in that case, please remove/add a semicolon after plt.show()"
   ]
  },
  {
   "cell_type": "markdown",
   "metadata": {},
   "source": [
    "For $e^{sin(x) \\vert sin(x) \\vert}$, we divide the domain into two parts and obtain uprime."
   ]
  },
  {
   "cell_type": "code",
   "execution_count": 19,
   "metadata": {},
   "outputs": [
    {
     "data": {
      "image/png": "[encoded data removed]",
      "text/plain": [
       "<Figure size 432x288 with 1 Axes>"
      ]
     },
     "metadata": {
      "needs_background": "light"
     },
     "output_type": "display_data"
    }
   ],
   "source": [
    "# Program 4\n",
    "\n",
    "import scipy as sp\n",
    "from scipy import sparse\n",
    "import numpy as np\n",
    "from scipy.linalg import circulant\n",
    "n      = 2**sp.arange(3,16);\n",
    "error = sp.zeros(sp.size(n));\n",
    "for k in range(0,sp.size(n)):\n",
    "    N           = n[k];\n",
    "    x           = sp.zeros(N);\n",
    "    u           = sp.zeros(N);\n",
    "    h           = 2*sp.pi/N;\n",
    "    x_n         = -sp.pi+sp.arange(1,N/2)*h;\n",
    "    x_p         = sp.arange(0,N/2 + 1)*h;\n",
    "    u_pos       = sp.exp(sp.sin(x_p)*sp.sin(x_p));\n",
    "    uprime_pos  = sp.sin(2*x_p)*u_pos;\n",
    "    u_neg       = sp.exp(-sp.sin(x_n)*sp.sin(x_n));\n",
    "    uprime_neg  = -1*sp.sin(2*x_n)*u_neg;\n",
    "    v           = sp.zeros(N);\n",
    "    v[1]        = -1/2;\n",
    "    v[-1]       = 1/2;\n",
    "    D           = sparse.csr_matrix(circulant(v));\n",
    "    u           = np.concatenate([u_neg,u_pos]);\n",
    "    du          = D.dot(u)/h;\n",
    "    uprime      = np.concatenate([uprime_neg,uprime_pos]);\n",
    "    error[k]  = sp.amax(du-uprime);\n",
    "\n",
    "import matplotlib.pyplot as plt\n",
    "plt.loglog(n,error,'+', label='Error')\n",
    "plt.loglog(n,1/n**2,'-', label='h^2')\n",
    "plt.xlabel('Number of points');\n",
    "plt.ylabel('Error');\n",
    "plt.legend();\n",
    "plt.title('Second order convergence of the finite difference');\n",
    "plt.show()"
   ]
  },
  {
   "cell_type": "code",
   "execution_count": 101,
   "metadata": {},
   "outputs": [
    {
     "data": {
      "image/png": "[encoded data removed]",
      "text/plain": [
       "<Figure size 432x288 with 1 Axes>"
      ]
     },
     "metadata": {
      "needs_background": "light"
     },
     "output_type": "display_data"
    }
   ],
   "source": [
    "# Program 5\n",
    "\n",
    "import scipy as sp\n",
    "from scipy import sparse\n",
    "from scipy.linalg import circulant\n",
    "n      = 2**sp.arange(3,12);\n",
    "error = sp.zeros(sp.size(n));\n",
    "for k in range(0,sp.size(n)):\n",
    "    N           = n[k];\n",
    "    h           = 2*sp.pi/N;\n",
    "    x           = -sp.pi+sp.arange(1,N+1)*h;\n",
    "    u           = sp.exp(sp.sin(x)*abs(sp.sin(x)));\n",
    "    uprime      = abs(sp.sin(2*x))*u;\n",
    "    v           = sp.zeros(N);\n",
    "    v[1]       = -8;\n",
    "    v[-1]      = 8;\n",
    "    v[2]       = 1;\n",
    "    v[-2]      = -1;\n",
    "    D           = sparse.csr_matrix(circulant(v));\n",
    "    du          = D.dot(u)/12/h;\n",
    "    error[k]  = sp.amax(du-uprime);\n",
    "\n",
    "import matplotlib.pyplot as plt\n",
    "plt.loglog(n,error,'+', label='Error')\n",
    "plt.loglog(n,1/n**4,'-', label='h^4')\n",
    "plt.xlabel('Number of points');\n",
    "plt.ylabel('Error');\n",
    "plt.legend();\n",
    "plt.title('Fourth order convergence of the finite difference');\n",
    "plt.show()"
   ]
  },
  {
   "cell_type": "code",
   "execution_count": 105,
   "metadata": {},
   "outputs": [
    {
     "data": {
      "image/png": "[encoded data removed]",
      "text/plain": [
       "<Figure size 432x288 with 1 Axes>"
      ]
     },
     "metadata": {
      "needs_background": "light"
     },
     "output_type": "display_data"
    }
   ],
   "source": [
    "# Program 6\n",
    "\n",
    "import scipy as sp\n",
    "from scipy import linalg\n",
    "n      = sp.arange(4,45,2);\n",
    "error = sp.zeros(sp.size(n));\n",
    "for k in range(0,sp.size(n)):\n",
    "    N           = n[k];\n",
    "    h           = 2*sp.pi/N;\n",
    "    x           = -sp.pi+sp.arange(1,N+1)*h;\n",
    "    u           = sp.exp(sp.sin(x)*abs(sp.sin(x)));\n",
    "    uprime      = abs(sp.sin(2*x))*u;\n",
    "    vec           = sp.zeros(N);\n",
    "    vec[1:N]   = (-1)**sp.arange(1,N)/sp.tan(sp.arange(1,N)*h/2);\n",
    "    D           = sp.linalg.circulant(vec);\n",
    "    du          = 0.5*D.dot(u);\n",
    "    error[k]    = sp.amax(du-uprime);\n",
    "\n",
    "import matplotlib.pyplot as plt\n",
    "plt.loglog(n,error,'+', label='Error')\n",
    "plt.xlabel('Number of points');\n",
    "plt.ylabel('Error');\n",
    "plt.legend();\n",
    "plt.title('Convergence of spectral derivative');\n",
    "plt.show();"
   ]
  },
  {
   "cell_type": "code",
   "execution_count": 102,
   "metadata": {},
   "outputs": [
    {
     "data": {
      "image/png": "[encoded data removed]",
      "text/plain": [
       "<Figure size 432x288 with 1 Axes>"
      ]
     },
     "metadata": {
      "needs_background": "light"
     },
     "output_type": "display_data"
    }
   ],
   "source": [
    "# Program 7\n",
    "\n",
    "import scipy as sp\n",
    "from scipy import linalg\n",
    "n      = sp.arange(4,45,2);\n",
    "error = sp.zeros(sp.size(n));\n",
    "for k in range(0,sp.size(n)):\n",
    "    N           = n[k];\n",
    "    h           = 2*sp.pi/N;\n",
    "    x_n         = -sp.pi+sp.arange(1,N/2)*h;\n",
    "    x_p         = sp.arange(0,N/2 + 1)*h;\n",
    "    u_pos       = sp.exp(sp.sin(x_p)*sp.sin(x_p));\n",
    "    uprime_pos  = sp.sin(2*x_p)*u_pos;\n",
    "    u_neg       = sp.exp(-sp.sin(x_n)*sp.sin(x_n));\n",
    "    uprime_neg  = -1*sp.sin(2*x_n)*u_neg;\n",
    "    vec           = sp.zeros(N);\n",
    "    vec[1:N]   = (-1)**sp.arange(1,N)/sp.tan(sp.arange(1,N)*h/2);\n",
    "    D           = sp.linalg.circulant(vec);\n",
    "    u           = np.concatenate([u_neg,u_pos]);\n",
    "    du          = 0.5*D.dot(u);\n",
    "    uprime      = np.concatenate([uprime_neg,uprime_pos]);\n",
    "    error[k]    = sp.amax(du-uprime);\n",
    "\n",
    "import matplotlib.pyplot as plt\n",
    "plt.loglog(n,error,'+', label='Error')\n",
    "plt.xlabel('Number of points');\n",
    "plt.ylabel('Error');\n",
    "plt.legend();\n",
    "plt.title('Convergence of spectral derivative');\n",
    "plt.show();"
   ]
  },
  {
   "cell_type": "markdown",
   "metadata": {},
   "source": [
    "As can be seen, for $e^{sin^2x}$, the error decreases as expected. However, for $e^{(sin(x))\\vert(sin(x))\\vert}$, it doesn't decrease according to the order of finite difference. The reason may be attributed to the lack of differentiablity at x = 0, due to which the derivatives in the finite difference can't be defined."
   ]
  },
  {
   "cell_type": "markdown",
   "metadata": {
    "nbgrader": {
     "grade": false,
     "grade_id": "Exercise6",
     "locked": true,
     "schema_version": 1,
     "solution": false
    }
   },
   "source": [
    "VI.\n",
    "<ul>\n",
    "<li>\n",
    "By appropriately manipulating Taylor series, determine the constant $C$ for an error expansion of the fourth order central difference for the first derivative, i.e.,\n",
    "$$w_j-u'(x_j) \\sim C h^4 \\left.\\dfrac{d^5u(x)}{dx^5} \\right\\rvert_{x=x_j}$$\n",
    "<li>\n",
    "Based on this value of $C$ and on the formula for $\\dfrac{d^5u(x)}{dx^5}$ for $u(x) = e^{\\sin(x)}$, determine the leading term in the expansion for $w_j-u'(x_j)$ for $u(x) = e^{\\sin(x)}$. You will have to find\n",
    "$$\\max_{x \\in \\left[-\\pi,\\pi\\right]} \\left\\lvert \\dfrac{d^5u(x)}{dx^5} \\right\\rvert$$\n",
    "numerically.\n",
    "<li>\n",
    "Modify the program so that it plots the dashed line corresponding to this leading term rather than $N^{-4}$. This adjusted dashed line should fit the data almost perfectly.\n",
    "<li>\n",
    "Plot the difference between the two on a log-log scale and verify that it shrinks at the rate $\\mathcal{O}\\bkt{h^6}$.\n",
    "</ul>"
   ]
  },
  {
   "cell_type": "markdown",
   "metadata": {
    "nbgrader": {
     "grade": true,
     "grade_id": "Solution6",
     "locked": false,
     "points": 0,
     "schema_version": 1,
     "solution": true
    }
   },
   "source": [
    "A. \n",
    "\\begin{equation}\n",
    "    u_{j+2} = u_j + (2h)\\frac{du}{dx}\\Bigg\\vert_j + \\frac{(2h)^2}{2!}\\frac{d^2u}{dx^2}\\Bigg\\vert_j + \\frac{(2h)^3}{3!}\\frac{d^3u}{dx^3}\\Bigg\\vert_j + \\frac{(2h)^4}{4!}\\frac{d^4u}{dx^4}\\Bigg\\vert_j + \\frac{(2h)^5}{5!}\\frac{d^5u}{dx^5}\\Bigg\\vert_j + \\dots\n",
    "\\end{equation}\n",
    "\n",
    "\\begin{equation}\n",
    "    u_{j-2} = u_j - (2h)\\frac{du}{dx}\\Bigg\\vert_j + \\frac{(2h)^2}{2!}\\frac{d^2u}{dx^2}\\Bigg\\vert_j - \\frac{(2h)^3}{3!}\\frac{d^3u}{dx^3}\\Bigg\\vert_j + \\frac{(2h)^4}{4!}\\frac{d^4u}{dx^4}\\Bigg\\vert_j - \\frac{(2h)^5}{5!}\\frac{d^5u}{dx^5}\\Bigg\\vert_j + \\dots\n",
    "\\end{equation}\n",
    "\n",
    "\\begin{equation}\n",
    "    u_{j+1} = u_j + (h)\\frac{du}{dx}\\Bigg\\vert_j + \\frac{(h)^2}{2!}\\frac{d^2u}{dx^2}\\Bigg\\vert_j + \\frac{(h)^3}{3!}\\frac{d^3u}{dx^3}\\Bigg\\vert_j + \\frac{(h)^4}{4!}\\frac{d^4u}{dx^4}\\Bigg\\vert_j + \\frac{(h)^5}{5!}\\frac{d^5u}{dx^5}\\Bigg\\vert_j + \\dots\n",
    "\\end{equation}\n",
    "\n",
    "\\begin{equation}\n",
    "    u_{j-1} = u_j - (h)\\frac{du}{dx}\\Bigg\\vert_j + \\frac{(h)^2}{2!}\\frac{d^2u}{dx^2}\\Bigg\\vert_j - \\frac{(h)^3}{3!}\\frac{d^3u}{dx^3}\\Bigg\\vert_j + \\frac{(h)^4}{4!}\\frac{d^4u}{dx^4}\\Bigg\\vert_j - \\frac{(h)^5}{5!}\\frac{d^5u}{dx^5}\\Bigg\\vert_j + \\dots\n",
    "\\end{equation}\n",
    "\n",
    "Subtracting (2) from (1) and multiplying the difference by $\\frac{1}{12}$, and subtracting (4) from (3) and multiplying the difference by $\\frac{-2}{3}$, and consequently, subtracting them, we obtain the following relation:\n",
    "\n",
    "\\begin{equation}\n",
    "\\frac{u_{j+2} - u_{j-2}}{12} - \\frac{2}{3}(u_{j+1}-u_{j-1}) = \\frac{h}{3}\\frac{du}{dx}\\Bigg\\vert_j + \\frac{(2h)^5}{6!}\\frac{d^5u}{dx^5}\\Bigg\\vert_j - \\frac{4}{3}h\\frac{du}{dx}\\Bigg\\vert_j - \\frac{4}{3}\\frac{(h)^5}{5!}\\frac{d^5u}{dx^5}\\Bigg\\vert_j + \\dots\n",
    "\\end{equation} \n",
    "\n",
    "\\begin{equation}\n",
    "\\frac{du}{dx}\\Bigg\\vert_j = w_j + \\frac{1}{30}h^4\\frac{d^5u}{dx^5}\\Bigg\\vert_j\n",
    "\\end{equation}\n",
    "\n",
    "Therefore, $C = \\frac{-1}{30}$"
   ]
  },
  {
   "cell_type": "markdown",
   "metadata": {},
   "source": [
    "B. To find out the leading coefficient, we need to find the value of the fifth derivative of u with respect to x at j. Differentiating the function 5 times, we obtain\n",
    "\n",
    "\\begin{equation}\n",
    "\\frac{d^5u}{dx^5} = e^{sin(x)}(15cos(x)sin^2(x) + cos(x) - 15sin(x)cos(x) - 10cos^3(x)sin(x) + cos^5(x) - 10cos^3(x))\n",
    "\\end{equation}\n",
    "\n",
    "To obtain the leading coefficient, we need to find the maximum value of this function, we can use numerical technique."
   ]
  },
  {
   "cell_type": "code",
   "execution_count": 120,
   "metadata": {},
   "outputs": [
    {
     "name": "stdout",
     "output_type": "stream",
     "text": [
      "The value of 5th order term for different values of N are:\n",
      "14.903297854416131\n",
      "18.44557429863248\n",
      "18.810624980056286\n",
      "19.184977168267\n",
      "19.184977168267\n",
      "19.19795872903805\n",
      "19.20031071761282\n",
      "19.201351012687915\n",
      "19.20138432095399\n",
      "19.201506113068223\n",
      "19.201506113068223\n",
      "19.201506113068223\n",
      "19.201506113068223\n"
     ]
    }
   ],
   "source": [
    "import scipy as sp\n",
    "from scipy import sparse\n",
    "from scipy.linalg import circulant\n",
    "n      = 2**sp.arange(3,16);\n",
    "error = sp.zeros(sp.size(n));\n",
    "val = sp.zeros(sp.size(n));\n",
    "#lead = sp.zeros(n,sp.size(n));\n",
    "print('The value of 5th order term for different values of N are:')\n",
    "for k in range(0,sp.size(n)):\n",
    "    lead        = sp.zeros(N);\n",
    "    N           = n[k];\n",
    "    h           = 2*sp.pi/N;\n",
    "    x           = -sp.pi+sp.arange(1,N+1)*h;\n",
    "    u           = sp.exp(sp.sin(x)*sp.sin(x));\n",
    "    uprime      = sp.sin(2*x)*u;\n",
    "    v           = sp.zeros(N);\n",
    "    v[1]       = -8;\n",
    "    v[-1]      = 8;\n",
    "    v[2]       = 1;\n",
    "    v[-2]      = -1;\n",
    "    D           = sparse.csr_matrix(circulant(v));\n",
    "    du          = D.dot(u)/12/h;\n",
    "    error[k]  = sp.amax(du-uprime);\n",
    "    lead      = sp.exp(sp.sin(x)) * ((15*sp.cos(x))*(sp.sin(x))**2 + sp.cos(x) - 15 * (sp.sin(x)) * (sp.cos(x)) - 10* (sp.cos(x)**3) * sp.sin(x) + (sp.cos(x))**5 - 10*(sp.cos(x)**3))\n",
    "    val[k]    = h**4 * sp.amax(abs(lead))/30\n",
    "    print(sp.amax(abs(lead)))\n"
   ]
  },
  {
   "cell_type": "code",
   "execution_count": 121,
   "metadata": {},
   "outputs": [
    {
     "data": {
      "image/png": "[encoded data removed]",
      "text/plain": [
       "<Figure size 432x288 with 1 Axes>"
      ]
     },
     "metadata": {
      "needs_background": "light"
     },
     "output_type": "display_data"
    }
   ],
   "source": [
    "# Program 2\n",
    "# Accuracy of fourth order central difference for various N, set up grid in $[-\\pi,\\pi]$ and function u(x):\n",
    "import scipy as sp\n",
    "from scipy import sparse\n",
    "from scipy.linalg import circulant\n",
    "n      = 2**sp.arange(3,16);\n",
    "error = sp.zeros(sp.size(n));\n",
    "val = sp.zeros(sp.size(n));\n",
    "#lead = sp.zeros(n,sp.size(n));\n",
    "for k in range(0,sp.size(n)):\n",
    "    lead        = sp.zeros(N);\n",
    "    N           = n[k];\n",
    "    h           = 2*sp.pi/N;\n",
    "    x           = -sp.pi+sp.arange(1,N+1)*h;\n",
    "    u           = sp.exp(sp.sin(x));\n",
    "    uprime      = sp.cos(x)*u;\n",
    "    v           = sp.zeros(N);\n",
    "    v[1]       = -8;\n",
    "    v[-1]      = 8;\n",
    "    v[2]       = 1;\n",
    "    v[-2]      = -1;\n",
    "    D           = sparse.csr_matrix(circulant(v));\n",
    "    du          = D.dot(u)/12/h;\n",
    "    error[k]  = sp.amax(du-uprime);\n",
    "    lead      = sp.exp(sp.sin(x)) * ((15*sp.cos(x))*(sp.sin(x))**2 + sp.cos(x) + 15 * (sp.sin(x)) * (sp.cos(x)) - 10 * (sp.cos(x)**3) * sp.sin(x) + (sp.cos(x))**5 - 10*(sp.cos(x)**3))\n",
    "    val[k]      = h**4 * sp.amax(abs(lead))/30\n",
    "import matplotlib.pyplot as plt\n",
    "plt.loglog(n,error,'+', label='Total error')\n",
    "plt.loglog(n,val,'-', label='h^5 term')\n",
    "plt.xlabel('Number of points');\n",
    "plt.ylabel('Error');\n",
    "plt.legend();\n",
    "plt.title('Fourth order convergence of the finite difference');\n",
    "plt.show()"
   ]
  },
  {
   "cell_type": "code",
   "execution_count": 123,
   "metadata": {},
   "outputs": [
    {
     "name": "stderr",
     "output_type": "stream",
     "text": [
      "/Users/dhruvbhagtani/anaconda3/lib/python3.7/site-packages/ipykernel_launcher.py:30: RuntimeWarning: divide by zero encountered in true_divide\n"
     ]
    },
    {
     "data": {
      "image/png": "[encoded data removed]",
      "text/plain": [
       "<Figure size 432x288 with 1 Axes>"
      ]
     },
     "metadata": {
      "needs_background": "light"
     },
     "output_type": "display_data"
    }
   ],
   "source": [
    "# Program 2\n",
    "# Accuracy of fourth order central difference for various N, set up grid in $[-\\pi,\\pi]$ and function u(x):\n",
    "import scipy as sp\n",
    "from scipy import sparse\n",
    "from scipy.linalg import circulant\n",
    "n      = 2**sp.arange(3,12);\n",
    "error = sp.zeros(sp.size(n));\n",
    "val = sp.zeros(sp.size(n));\n",
    "h6 = sp.zeros(sp.size(n));\n",
    "for k in range(0,sp.size(n)):\n",
    "    lead        = sp.zeros(N);\n",
    "    N           = n[k];\n",
    "    h           = 2*sp.pi/N;\n",
    "    x           = -sp.pi+sp.arange(1,N+1)*h;\n",
    "    u           = sp.exp(sp.sin(x));\n",
    "    uprime      = sp.cos(x)*u;\n",
    "    v           = sp.zeros(N);\n",
    "    v[1]        = -8;\n",
    "    v[-1]       = 8;\n",
    "    v[2]        = 1;\n",
    "    v[-2]       = -1;\n",
    "    D           = sparse.csr_matrix(circulant(v));\n",
    "    du          = D.dot(u)/12/h;\n",
    "    error[k]    = sp.amax(du-uprime);\n",
    "    lead      = sp.exp(sp.sin(x)) * ((15*sp.cos(x))*(sp.sin(x))**2 + sp.cos(x) + 15 * (sp.sin(x)) * (sp.cos(x)) - 10 * (sp.cos(x)**3) * sp.sin(x) + (sp.cos(x))**5 - 10*(sp.cos(x)**3))\n",
    "    val[k]      = h**4 * sp.amax(abs(lead))/30;\n",
    "    h6[k]       = abs(error[k] - val[k]);\n",
    "import matplotlib.pyplot as plt\n",
    "plt.loglog(n,h6,'+', label='Total error') #h6 term is obtained after subtracting the 5th order term\n",
    "plt.loglog(n,1/n**6,'-', label='h^6')\n",
    "#plt.loglog(n,val,'*',label='val')\n",
    "plt.xlabel('Number of points');\n",
    "plt.ylabel('Error');\n",
    "plt.legend();\n",
    "plt.title('Fourth order convergence of the finite difference');\n",
    "plt.show()"
   ]
  },
  {
   "cell_type": "markdown",
   "metadata": {},
   "source": [
    "In the above code, h6 is defined as the difference between the error upto $h^4$ and the term pertaining to $h^5$. The graph shows that the points have the same slope as $\\frac{1}{n^6}$, therefore, it is reasonable to say that the error reduces by order of $h^6$. The warning comes because of machine precision."
   ]
  },
  {
   "cell_type": "code",
   "execution_count": null,
   "metadata": {},
   "outputs": [],
   "source": []
  }
 ],
 "metadata": {
  "celltoolbar": "Raw Cell Format",
  "kernelspec": {
   "display_name": "Python 3",
   "language": "python",
   "name": "python3"
  },
  "language_info": {
   "codemirror_mode": {
    "name": "ipython",
    "version": 3
   },
   "file_extension": ".py",
   "mimetype": "text/x-python",
   "name": "python",
   "nbconvert_exporter": "python",
   "pygments_lexer": "ipython3",
   "version": "3.7.1"
  }
 },
 "nbformat": 4,
 "nbformat_minor": 2
}
