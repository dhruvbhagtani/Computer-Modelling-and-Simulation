{\rtf1\ansi\ansicpg1252\cocoartf1671\cocoasubrtf200
{\fonttbl\f0\fmodern\fcharset0 Courier;}
{\colortbl;\red255\green255\blue255;\red0\green0\blue0;}
{\*\expandedcolortbl;;\cssrgb\c0\c0\c0;}
\paperw11900\paperh16840\margl1440\margr1440\vieww10800\viewh8400\viewkind0
\deftab720
\pard\pardeftab720\partightenfactor0

\f0\fs26 \cf0 \expnd0\expndtw0\kerning0
\{\
 "cells": [\
  \{\
   "cell_type": "code",\
   "execution_count": 1,\
   "metadata": \{\
    "nbgrader": \{\
     "grade": false,\
     "grade_id": "Exercise1",\
     "locked": true,\
     "schema_version": 1,\
     "solution": false\
    \}\
   \},\
   "outputs": [\
    \{\
     "name": "stdout",\
     "output_type": "stream",\
     "text": [\
      "The tikzmagic module is not an IPython extension.\\n"\
     ]\
    \}\
   ],\
   "source": [\
    "%load_ext tikzmagic"\
   ]\
  \},\
  \{\
   "cell_type": "code",\
   "execution_count": 2,\
   "metadata": \{\},\
   "outputs": [\
    \{\
     "data": \{\
      "application/javascript": [\
       "MathJax.Hub.Config(\{\\n",\
       "    TeX: \{ equationNumbers: \{ autoNumber: \\"AMS\\" \} \}\\n",\
       "\});\\n",\
       "\\n",\
       "MathJax.Hub.Queue(\\n",\
       "  [\\"resetEquationNumbers\\", MathJax.InputJax.TeX],\\n",\
       "  [\\"PreProcess\\", MathJax.Hub],\\n",\
       "  [\\"Reprocess\\", MathJax.Hub]\\n",\
       ");"\
      ],\
      "text/plain": [\
       "<IPython.core.display.Javascript object>"\
      ]\
     \},\
     "metadata": \{\},\
     "output_type": "display_data"\
    \}\
   ],\
   "source": [\
    "%%javascript\\n",\
    "MathJax.Hub.Config(\{\\n",\
    "    TeX: \{ equationNumbers: \{ autoNumber: \\"AMS\\" \} \}\\n",\
    "\});\\n",\
    "\\n",\
    "MathJax.Hub.Queue(\\n",\
    "  [\\"resetEquationNumbers\\", MathJax.InputJax.TeX],\\n",\
    "  [\\"PreProcess\\", MathJax.Hub],\\n",\
    "  [\\"Reprocess\\", MathJax.Hub]\\n",\
    ");"\
   ]\
  \},\
  \{\
   "cell_type": "markdown",\
   "metadata": \{\},\
   "source": [\
    "I. We derived the entries of the tridiagonal circulant matrix by local polynomial interpolation. Derive the entries of the pentadiagonal circulant matrix in the same manner."\
   ]\
  \},\
  \{\
   "cell_type": "code",\
   "execution_count": null,\
   "metadata": \{\
    "collapsed": true,\
    "nbgrader": \{\
     "grade": true,\
     "grade_id": "Solution1",\
     "locked": false,\
     "points": 0,\
     "schema_version": 1,\
     "solution": true\
    \}\
   \},\
   "outputs": [],\
   "source": []\
  \},\
  \{\
   "cell_type": "markdown",\
   "metadata": \{\
    "nbgrader": \{\
     "grade": false,\
     "grade_id": "Exercise2",\
     "locked": true,\
     "schema_version": 1,\
     "solution": false\
    \}\
   \},\
   "source": [\
    "II. $\\\\newcommand\{\\\\bkt\}[1]\{\\\\left(#1\\\\right)\}$\\n",\
    "Show that the matrix dense matrix\\n",\
    "\\\\begin\{align\}\\n",\
    "D_N(i,j) & = \\\\begin\{cases\}\\n",\
    "\\\\bkt\{-1\}^\{i-j\} \\\\dfrac12 \\\\cot \\\\bkt\{\\\\dfrac\{(i-j)h\}2\} & \\\\text\{if \} i \\\\neq j\\\\\\\\\\n",\
    "0 & \\\\text\{if \}i=j\\n",\
    "\\\\end\{cases\}\\n",\
    "\\\\end\{align\}\\n",\
    "is circulant."\
   ]\
  \},\
  \{\
   "cell_type": "code",\
   "execution_count": null,\
   "metadata": \{\
    "collapsed": true,\
    "nbgrader": \{\
     "grade": true,\
     "grade_id": "Solution2",\
     "locked": false,\
     "points": 0,\
     "schema_version": 1,\
     "solution": true\
    \}\
   \},\
   "outputs": [],\
   "source": []\
  \},\
  \{\
   "cell_type": "markdown",\
   "metadata": \{\
    "nbgrader": \{\
     "grade": false,\
     "grade_id": "Exercise3",\
     "locked": true,\
     "schema_version": 1,\
     "solution": false\
    \}\
   \},\
   "source": [\
    "III. The error in the third output we discussed in the class, (i.e., the error for the spectral derivative on $e^\{\\\\sin(x)\}$) lie in pairs.\\n",\
    "<ul>\\n",\
    "<li>\\n",\
    "Why?\\n",\
    "<li>\\n",\
    "What property of $e^\{\\\\sin(x)\}$ gives rise to this behavior?\\n",\
    "</ul>"\
   ]\
  \},\
  \{\
   "cell_type": "code",\
   "execution_count": null,\
   "metadata": \{\
    "collapsed": true,\
    "nbgrader": \{\
     "grade": true,\
     "grade_id": "Solution3",\
     "locked": false,\
     "points": 0,\
     "schema_version": 1,\
     "solution": true\
    \}\
   \},\
   "outputs": [],\
   "source": []\
  \},\
  \{\
   "cell_type": "markdown",\
   "metadata": \{\
    "nbgrader": \{\
     "grade": false,\
     "grade_id": "Exercise4",\
     "locked": true,\
     "schema_version": 1,\
     "solution": false\
    \}\
   \},\
   "source": [\
    "IV. Run the program in Chapter $1$, where we approximated the derivative by fourth order central difference, for large values of $N$ say $N=2^\{16\}$.\\n",\
    "<ul>\\n",\
    "<li>\\n",\
    "What happens to the plot of error versus $N$?\\n",\
    "<li>\\n",\
    "Why?\\n",\
    "<li>\\n",\
    "Import the python library \\"time\\" and use \\"time.clock()\\" method to measure the time taken as a function of $N$.\\n",\
    "<li>\\n",\
    "Plot the time taken as a function of $N$.\\n",\
    "<li> Is the dependence linear, quadratic or cubic?"\
   ]\
  \},\
  \{\
   "cell_type": "code",\
   "execution_count": null,\
   "metadata": \{\
    "collapsed": true,\
    "nbgrader": \{\
     "grade": true,\
     "grade_id": "Solution4",\
     "locked": false,\
     "points": 0,\
     "schema_version": 1,\
     "solution": true\
    \}\
   \},\
   "outputs": [],\
   "source": []\
  \},\
  \{\
   "cell_type": "markdown",\
   "metadata": \{\
    "nbgrader": \{\
     "grade": false,\
     "grade_id": "Exercise5",\
     "locked": true,\
     "schema_version": 1,\
     "solution": false\
    \}\
   \},\
   "source": [\
    "V. Execute the three programs from Chapter $1$ with $e^\{\\\\sin(x)\}$ replaced by $e^\{\\\\sin^2(x)\}$ and $e^\{\\\\sin(x)\\\\lvert sin(x) \\\\rvert\}$. Make sure to change **uprime** accordingly. What rates of convergence do you observe? Comment."\
   ]\
  \},\
  \{\
   "cell_type": "code",\
   "execution_count": null,\
   "metadata": \{\
    "collapsed": true,\
    "nbgrader": \{\
     "grade": true,\
     "grade_id": "Solution5",\
     "locked": false,\
     "points": 0,\
     "schema_version": 1,\
     "solution": true\
    \}\
   \},\
   "outputs": [],\
   "source": []\
  \},\
  \{\
   "cell_type": "markdown",\
   "metadata": \{\
    "nbgrader": \{\
     "grade": false,\
     "grade_id": "Exercise6",\
     "locked": true,\
     "schema_version": 1,\
     "solution": false\
    \}\
   \},\
   "source": [\
    "VI.\\n",\
    "<ul>\\n",\
    "<li>\\n",\
    "By appropriately manipulating Taylor series, determine the constant $C$ for an error expansion of the fourth order central difference for the first derivative, i.e.,\\n",\
    "$$w_j-u'(x_j) \\\\sim C h^4 \\\\left.\\\\dfrac\{d^5u(x)\}\{dx^5\} \\\\right\\\\rvert_\{x=x_j\}$$\\n",\
    "<li>\\n",\
    "Based on this value of $C$ and on the formula for $\\\\dfrac\{d^5u(x)\}\{dx^5\}$ for $u(x) = e^\{\\\\sin(x)\}$, determine the leading term in the expansion for $w_j-u'(x_j)$ for $u(x) = e^\{\\\\sin(x)\}$. You will have to find\\n",\
    "$$\\\\max_\{x \\\\in \\\\left[-\\\\pi,\\\\pi\\\\right]\} \\\\left\\\\lvert \\\\dfrac\{d^5u(x)\}\{dx^5\} \\\\right\\\\rvert$$\\n",\
    "numerically.\\n",\
    "<li>\\n",\
    "Modify the program so that it plots the dashed line corresponding to this leading term rather than $N^\{-4\}$. This adjusted dashed line should fit the data almost perfectly.\\n",\
    "<li>\\n",\
    "Plot the difference between the two on a log-log scale and verify that it shrinks at the rate $\\\\mathcal\{O\}\\\\bkt\{h^6\}$.\\n",\
    "</ul>"\
   ]\
  \},\
  \{\
   "cell_type": "code",\
   "execution_count": null,\
   "metadata": \{\
    "collapsed": true,\
    "nbgrader": \{\
     "grade": true,\
     "grade_id": "Solution6",\
     "locked": false,\
     "points": 0,\
     "schema_version": 1,\
     "solution": true\
    \}\
   \},\
   "outputs": [],\
   "source": []\
  \}\
 ],\
 "metadata": \{\
  "celltoolbar": "Raw Cell Format",\
  "kernelspec": \{\
   "display_name": "Python 3",\
   "language": "python",\
   "name": "python3"\
  \},\
  "language_info": \{\
   "codemirror_mode": \{\
    "name": "ipython",\
    "version": 3\
   \},\
   "file_extension": ".py",\
   "mimetype": "text/x-python",\
   "name": "python",\
   "nbconvert_exporter": "python",\
   "pygments_lexer": "ipython3",\
   "version": "3.6.3"\
  \}\
 \},\
 "nbformat": 4,\
 "nbformat_minor": 2\
\}}