{
 "cells": [
  {
   "cell_type": "markdown",
   "metadata": {},
   "source": [
    "Q1. a. Polynomial of degree $\\frac{(n)(n+1)}{2}$"
   ]
  },
  {
   "cell_type": "markdown",
   "metadata": {},
   "source": [
    "Ans. Considering $x_1, x_2 \\dots x_n$ as variables, the maximum degree can be obtained by multiplying all the diagonal entries. Doing that, we will obtain a term of $1 \\times x_1 \\times x_2^2 \\dots x_n^n$. Since all are variables, the total degree of this polynomial will be $1 + 2 + 3 + 4 + \\dots n$, which is equal to $\\frac{n(n+1)}{2}$."
   ]
  },
  {
   "cell_type": "markdown",
   "metadata": {},
   "source": [
    "Q1. b. If $x_i = x_j$, then det(V) = 0"
   ]
  },
  {
   "cell_type": "markdown",
   "metadata": {},
   "source": [
    "Ans. If $x_i = x_j$, an entire ith row will be zero.\n",
    "\n",
    "\\begin{gather}\n",
    "V_{n+1} = \n",
    "\\begin{bmatrix}\n",
    "1&x_0&x_0^2 & \\dots & x_0^{n}\\\\\n",
    "0&x_1-x_0&x_1^2-x_0^2 & \\dots & x_1^{n}-x_0^{n}\\\\\n",
    "\\vdots & \\vdots & \\vdots & \\ddots &\\vdots\\\\\n",
    "0&x_i-x_0&x_i^2-x_0^2 & \\dots & x_i^{n}-x_0^{n}\\\\\n",
    "\\vdots & \\vdots & \\vdots & \\ddots &\\vdots\\\\\n",
    "0&x_n-x_0&x_n^2 - x_0^2 & \\dots & x_n^{n} - x_0^n\\\\\n",
    "\\end{bmatrix}\n",
    "\\end{gather}\n",
    "\n",
    "In the matrix, the (i+1)th row will be zero, therefore the determinant will be zero."
   ]
  },
  {
   "cell_type": "markdown",
   "metadata": {},
   "source": [
    "Q1. c. $(x_i - x_j)$ is a factor of det(V)"
   ]
  },
  {
   "cell_type": "markdown",
   "metadata": {},
   "source": [
    "Ans. When $x_i = x_j$, det(V) is zero. This means that $x_i - x_j$ divides det(V) completely. It is therefore, a factor of det(V)."
   ]
  },
  {
   "cell_type": "markdown",
   "metadata": {},
   "source": [
    "Q1.d. \n",
    "\\begin{equation}\n",
    "det(V) = C\\Big(\\prod_{1 \\leq j<i \\leq n}(x_i-x_j) \\Big) \n",
    "\\end{equation}"
   ]
  },
  {
   "cell_type": "markdown",
   "metadata": {},
   "source": [
    "Ans.\n",
    "If x_i - x_j is a factor of det(V), if we take all the factors, we can form det(V).\n",
    "\n",
    "Let us say that det(V) is a polynomial of degree $\\frac{n(n+1)}{2}$. \n",
    "Now, to not repeat any case, for example, if $x_2 - x_1$ is a factor of det(V), then by this analogy, $x_2-x_1$ is also a factor of det(V). To counter this, we will always take those cases where i>j. Equality is not mentioned because this will make the factor = 0. So,\n",
    "\n",
    "For i = 1, we have j = 0.\n",
    "For i = 2, we have j =0,1.\n",
    "Similarly, for i = n, we have j = $0,1,2,3 \\dots (n-1)$\n",
    "\n",
    "All of these terms need to be multiplied. \n",
    "For i = 1, $(x_1 - x_0) is the only term possible. \n",
    "For i = 2, $(x_1 - x_0)(x_2 - x_0) is possible. \n",
    "\n",
    "Similarly, multiplying all the terms, we obtain a polynomial of degree \\frac{n(n+1)}{2}.\n",
    "\n",
    "Now, the determinant degree as we calculated in (a) is also $\\frac{n(n+1)}{2}$, which means that these are the only terms possible. Since the order analysis doesn't take care of a constant, i.e., we have no clue about the constant that has to be multiplied, we leave it at this form:\n",
    "\n",
    "\\begin{equation}\n",
    "det(V) = C\\Big(\\prod_{1 \\leq j<i \\leq n}(x_i-x_j) \\Big) \n",
    "\\end{equation}"
   ]
  },
  {
   "cell_type": "markdown",
   "metadata": {},
   "source": [
    "Q1.e.C = 1"
   ]
  },
  {
   "cell_type": "markdown",
   "metadata": {},
   "source": [
    "Ans. To find out the coefficient of $x_1 \\times x_2^2 \\times x_3^3 \\dots x_n^n$, we multiply the diagonal terms, and obtain $x_1 \\times x_2^2 \\times x_3^3 \\dots x_n^n$, therefore, the constant C = 1."
   ]
  },
  {
   "cell_type": "code",
   "execution_count": null,
   "metadata": {},
   "outputs": [],
   "source": []
  },
  {
   "cell_type": "markdown",
   "metadata": {},
   "source": [
    "Q2. a. Condition number of Vandermonde Matrices as a function of n."
   ]
  },
  {
   "cell_type": "code",
   "execution_count": 4,
   "metadata": {},
   "outputs": [
    {
     "data": {
      "image/png": "[encoded data removed]",
      "text/plain": [
       "<Figure size 432x288 with 1 Axes>"
      ]
     },
     "metadata": {
      "needs_background": "light"
     },
     "output_type": "display_data"
    }
   ],
   "source": [
    "import numpy as np\n",
    "import scipy as sp\n",
    "import matplotlib.pylab as pl\n",
    "Nmax = 41;\n",
    "N = np.arange(2,Nmax);\n",
    "c = np.zeros(Nmax-2);\n",
    "for n in N:\n",
    "    x = np.linspace(-1,1,n);\n",
    "    V = np.vander(x,increasing=\"True\");\n",
    "    c[n-2] = np.linalg.cond(V);\n",
    "pl.semilogy(N,c,'k-+');\n",
    "pl.xlabel('Matrix Dimensions')\n",
    "pl.ylabel('Condition Number')\n",
    "pl.show()"
   ]
  },
  {
   "cell_type": "markdown",
   "metadata": {},
   "source": [
    "This is a semi log plot between the condition number and dimensions (NXN) of a matrix. The graph is a straight line, which shows that as the dimensions of the matrix increases, the condition number increases exponentially."
   ]
  },
  {
   "cell_type": "code",
   "execution_count": 2,
   "metadata": {},
   "outputs": [
    {
     "data": {
      "image/png": "[encoded data removed]",
      "text/plain": [
       "<Figure size 432x288 with 1 Axes>"
      ]
     },
     "metadata": {
      "needs_background": "light"
     },
     "output_type": "display_data"
    }
   ],
   "source": [
    "import numpy as np\n",
    "import scipy as sp\n",
    "import matplotlib.pylab as pl\n",
    "Nmax = 41;\n",
    "pi = 3.142\n",
    "N = np.arange(2,Nmax);\n",
    "c = np.zeros(Nmax-2);\n",
    "for n in N:\n",
    "    xt = np.linspace(-1,1,n);\n",
    "    x = sp.sin(pi*xt/2);\n",
    "    V = np.vander(x,increasing=\"True\");\n",
    "    c[n-2] = np.linalg.cond(V);\n",
    "    \n",
    "pl.semilogy(N,c,'k-+');\n",
    "pl.xlabel('Matrix Dimensions')\n",
    "pl.ylabel('Condition Number')\n",
    "pl.show();"
   ]
  },
  {
   "cell_type": "markdown",
   "metadata": {},
   "source": [
    "As the dimensions of the matrix increases, the condition number increases. However, the value of condition number is much less for the latter case for the same matrix dimensions when compared t the case where the nodes are equally spaced. The Chebyshev nodes therefore, reduces the error one faces when trying to interpolate a function, by not having equally spaced grids, rather, having them at strategic locations. "
   ]
  },
  {
   "cell_type": "markdown",
   "metadata": {},
   "source": [
    "Q2. b. Interpolant for Runge function using linear system"
   ]
  },
  {
   "cell_type": "code",
   "execution_count": 73,
   "metadata": {},
   "outputs": [
    {
     "ename": "ValueError",
     "evalue": "Scalar operands are not allowed, use '*' instead",
     "output_type": "error",
     "traceback": [
      "\u001b[0;31m---------------------------------------------------------------------------\u001b[0m",
      "\u001b[0;31mValueError\u001b[0m                                Traceback (most recent call last)",
      "\u001b[0;32m<ipython-input-73-26f948c7434a>\u001b[0m in \u001b[0;36m<module>\u001b[0;34m\u001b[0m\n\u001b[1;32m     37\u001b[0m     \u001b[0mnnodes\u001b[0m \u001b[0;34m=\u001b[0m \u001b[0;36m5\u001b[0m\u001b[0;34m*\u001b[0m\u001b[0mi\u001b[0m\u001b[0;34m;\u001b[0m\u001b[0;34m\u001b[0m\u001b[0;34m\u001b[0m\u001b[0m\n\u001b[1;32m     38\u001b[0m     \u001b[0mpolU\u001b[0m \u001b[0;34m=\u001b[0m \u001b[0mVanderU\u001b[0m\u001b[0;34m(\u001b[0m\u001b[0mnnodes\u001b[0m\u001b[0;34m)\u001b[0m\u001b[0;34m;\u001b[0m\u001b[0;34m\u001b[0m\u001b[0;34m\u001b[0m\u001b[0m\n\u001b[0;32m---> 39\u001b[0;31m     \u001b[0mpolC\u001b[0m \u001b[0;34m=\u001b[0m \u001b[0mVanderC\u001b[0m\u001b[0;34m(\u001b[0m\u001b[0mnnodes\u001b[0m\u001b[0;34m)\u001b[0m\u001b[0;34m;\u001b[0m\u001b[0;34m\u001b[0m\u001b[0;34m\u001b[0m\u001b[0m\n\u001b[0m\u001b[1;32m     40\u001b[0m \u001b[0;34m\u001b[0m\u001b[0m\n\u001b[1;32m     41\u001b[0m \u001b[0;31m#nnodes    = 201;\u001b[0m\u001b[0;34m\u001b[0m\u001b[0;34m\u001b[0m\u001b[0;34m\u001b[0m\u001b[0m\n",
      "\u001b[0;32m<ipython-input-73-26f948c7434a>\u001b[0m in \u001b[0;36mVanderC\u001b[0;34m(nnodes)\u001b[0m\n\u001b[1;32m     23\u001b[0m     \u001b[0mVC\u001b[0m \u001b[0;34m=\u001b[0m \u001b[0mnp\u001b[0m\u001b[0;34m.\u001b[0m\u001b[0mvander\u001b[0m\u001b[0;34m(\u001b[0m\u001b[0my\u001b[0m\u001b[0;34m,\u001b[0m\u001b[0mincreasing\u001b[0m\u001b[0;34m=\u001b[0m\u001b[0;34m\"True\"\u001b[0m\u001b[0;34m)\u001b[0m\u001b[0;34m;\u001b[0m\u001b[0;34m\u001b[0m\u001b[0;34m\u001b[0m\u001b[0m\n\u001b[1;32m     24\u001b[0m     \u001b[0mVCinv\u001b[0m \u001b[0;34m=\u001b[0m \u001b[0minv\u001b[0m\u001b[0;34m(\u001b[0m\u001b[0mVC\u001b[0m\u001b[0;34m)\u001b[0m\u001b[0;34m;\u001b[0m\u001b[0;34m\u001b[0m\u001b[0;34m\u001b[0m\u001b[0m\n\u001b[0;32m---> 25\u001b[0;31m     \u001b[0mVCfinal\u001b[0m \u001b[0;34m=\u001b[0m \u001b[0mnp\u001b[0m\u001b[0;34m.\u001b[0m\u001b[0mmatmul\u001b[0m\u001b[0;34m(\u001b[0m\u001b[0mVCinv\u001b[0m\u001b[0;34m,\u001b[0m\u001b[0mf\u001b[0m\u001b[0;34m)\u001b[0m\u001b[0;34m\u001b[0m\u001b[0;34m\u001b[0m\u001b[0m\n\u001b[0m\u001b[1;32m     26\u001b[0m     \u001b[0;32mreturn\u001b[0m \u001b[0mVCfinal\u001b[0m\u001b[0;34m;\u001b[0m\u001b[0;34m\u001b[0m\u001b[0;34m\u001b[0m\u001b[0m\n\u001b[1;32m     27\u001b[0m \u001b[0;34m\u001b[0m\u001b[0m\n",
      "\u001b[0;31mValueError\u001b[0m: Scalar operands are not allowed, use '*' instead"
     ]
    }
   ],
   "source": [
    "import numpy as np\n",
    "import scipy as sp\n",
    "from numpy.linalg import inv\n",
    "import matplotlib.pylab as pl\n",
    "\n",
    "def function(x):\n",
    "    f = 1.0/(1+25*x*x);\n",
    "    return f;\n",
    "\n",
    "def VanderU(nnodes):\n",
    "    #f = 1;\n",
    "    x = np.linspace(-1,1,nnodes);\n",
    "    VU = np.vander(x,increasing=\"True\");\n",
    "    f = function(x)\n",
    "    VUinv = inv(VU);\n",
    "    VUfinal = np.matmul(VUinv,f)\n",
    "    return VUfinal;\n",
    "    \n",
    "def VanderC(nnodes):\n",
    "    f = 1;\n",
    "    x = np.linspace(-1,1,nnodes);\n",
    "    y = sp.sin(sp.pi*x/2);\n",
    "    VC = np.vander(y,increasing=\"True\");\n",
    "    VCinv = inv(VC);\n",
    "    VCfinal = np.matmul(VCinv,f)\n",
    "    return VCfinal;\n",
    "\n",
    "nnodes = 5;\n",
    "Unodes = np.linspace(-1,1,nnodes);\n",
    "Cnodes = sp.sin(pi*Unodes/2);\n",
    "#yU = function(Unodes);\n",
    "#yC = function(Cnodes);\n",
    "polU = np.zeros(sp.size(nnodes));\n",
    "polC = np.zeros(sp.size(nnodes));\n",
    "\n",
    "for i in range (1,6):\n",
    "    nnodes = 5*i;\n",
    "    polU = VanderU(nnodes);\n",
    "    polC = VanderC(nnodes);\n",
    "    \n",
    "#nnodes    = 201;\n",
    "# xnodes, fnodes, fplot = Chebyshev(nnodes,xplot);\n",
    "# xnodes, fnodes, fplot = Uniform(nnodes,xplot);\n",
    "#fplot        = Uniform(nnodes,xplot);\n",
    "\n",
    "#error       = f_actual-fplot;\n",
    "#print(np.amax(np.abs(error)))\n",
    "#pl.plot(xplot,f_actual,'-');\n",
    "#pl.plot(xplot,fplot,'r');\n",
    "#pl.rcParams[\"figure.figsize\"] = [16,4];\n",
    "print(f_actual);\n",
    "pl.plot(xplot,f_actual);"
   ]
  },
  {
   "cell_type": "markdown",
   "metadata": {},
   "source": [
    "Q2. b. Interpolant for Runge function using lagrange polynomials + Chebyshev Nodes"
   ]
  },
  {
   "cell_type": "code",
   "execution_count": 58,
   "metadata": {},
   "outputs": [
    {
     "name": "stdout",
     "output_type": "stream",
     "text": [
      "0.45997768664047717\n",
      "0.3190952547347732\n",
      "0.05350803943024074\n",
      "0.04495464768853019\n",
      "0.008163340373174566\n"
     ]
    },
    {
     "data": {
      "image/png": "[encoded data removed]",
      "text/plain": [
       "<Figure size 1152x288 with 1 Axes>"
      ]
     },
     "metadata": {
      "needs_background": "light"
     },
     "output_type": "display_data"
    }
   ],
   "source": [
    "\n",
    "import numpy as np\n",
    "import scipy as sp\n",
    "import matplotlib.pylab as pl\n",
    "import matplotlib.pyplot as plt\n",
    "from scipy.stats import binom;\n",
    "\n",
    "def function(x):\n",
    "    f = 1.0/(1+25*x*x);\n",
    "    return f;\n",
    "    \n",
    "def Chebyshev(nnodes,xplot):\n",
    "    # Chebyshev node interpolation\n",
    "    xnodes    = np.cos(np.arange(0,nnodes)*np.pi/(nnodes-1));\n",
    "    fnodes     = function(xnodes);\n",
    "    fplot        = 0;\n",
    "    for i in range(0,nnodes):\n",
    "        fplot = fplot + fnodes[i]*Lagrange(xnodes,xplot,i);\n",
    "        \n",
    "    #plt.plot(xplot,f_actual);\n",
    "    return xnodes, fnodes, fplot;\n",
    "        \n",
    "nplot       = 1001;\n",
    "xplot       = np.linspace(-1,1,nplot);\n",
    "f_actual   = function(xplot);\n",
    "plt.plot(xplot,f_actual,'r');\n",
    "\n",
    "for i in range(1,12):\n",
    "    nnodes    = 5*i;\n",
    "    if n == 5 || n == 10 || n == 20 || n ==50\n",
    "    xnodes, fnodes, fplot = Chebyshev(nnodes,xplot);\n",
    "    plt.plot(xplot,fplot);\n",
    "    error = f_actual-fplot;\n",
    "    print(np.amax(np.abs(error)));\n",
    "plt.show()"
   ]
  },
  {
   "cell_type": "code",
   "execution_count": 63,
   "metadata": {},
   "outputs": [
    {
     "name": "stdout",
     "output_type": "stream",
     "text": [
      "0.43835262054180296\n",
      "0.30028112979256866\n",
      "7.192113035022598\n",
      "8.575632648550263\n",
      "257.21291233463535\n"
     ]
    },
    {
     "data": {
      "image/png": "[encoded data removed]",
      "text/plain": [
       "<Figure size 1152x288 with 1 Axes>"
      ]
     },
     "metadata": {
      "needs_background": "light"
     },
     "output_type": "display_data"
    }
   ],
   "source": [
    "import numpy as np\n",
    "import scipy as sp\n",
    "import matplotlib.pylab as pl\n",
    "import matplotlib.pyplot as plt\n",
    "from scipy.stats import binom;\n",
    "\n",
    "def function(x):\n",
    "    f = 1.0/(1+25*x*x);\n",
    "    return f;\n",
    "\n",
    "def Uniform(nnodes,xplot):\n",
    "    # Uniform node interpolation\n",
    "    xnodes = np.linspace(-1,1,nnodes);\n",
    "    fnodes = function(xnodes);\n",
    "    fplot  = 0;\n",
    "    for i in range(0,nnodes):\n",
    "        fplot = fplot + fnodes[i]*Lagrange(xnodes,xplot,i);\n",
    "    return xnodes, fnodes, fplot;\n",
    "\n",
    "nplot       = 1001;\n",
    "xplot       = np.linspace(-1,1,nplot);\n",
    "f_actual   = function(xplot);\n",
    "plt.plot(xplot,f_actual,'r');\n",
    "\n",
    "for i in range(1,6):\n",
    "    nnodes    = 5*i;\n",
    "    xnodes, fnodes, fplot = Uniform(nnodes,xplot);\n",
    "    plt.plot(xplot,fplot);\n",
    "    error = f_actual-fplot;\n",
    "    print(np.amax(np.abs(error)));\n",
    "plt.show()"
   ]
  },
  {
   "cell_type": "markdown",
   "metadata": {},
   "source": [
    "Q2. c. Cost of evaluating the interpolant."
   ]
  },
  {
   "cell_type": "markdown",
   "metadata": {},
   "source": [
    "Ans. The cost of evaluating an interpolant in matrix form can be divided into two parts:\n",
    "\n",
    "a. Cost of solving the matrix : $O(N^3)$\n",
    "b. Cost of solving the interpolant at a particular point : $O(N)$.\n",
    "\n",
    "The cost of forming a lagrange polynomial is $O(N^2)$ while solving the interpolant at a particular point if we use Lagrange Polynomials is $O(N)$. \n"
   ]
  },
  {
   "cell_type": "markdown",
   "metadata": {},
   "source": [
    "Q2. d. Preference for polynomial approximation."
   ]
  },
  {
   "cell_type": "markdown",
   "metadata": {},
   "source": [
    "Ans.\n",
    "If we need to find the interpolation at m points, the total cost will be of the order $O(n^3 + mn)$ for the case when we solve using Vandermonde Matrices. On the other hand, if we use Lagrange Polynomials, the total cost of evaluating interpolation at m points will be given by $O(n^2 + mn)$.\n",
    "\n",
    "Clearly, using Lagrange polynomials is a better option."
   ]
  },
  {
   "cell_type": "code",
   "execution_count": null,
   "metadata": {},
   "outputs": [],
   "source": []
  },
  {
   "cell_type": "markdown",
   "metadata": {},
   "source": [
    "Q3. For any set of interpolation nodes,\n",
    "\n",
    "\\begin{equation}\n",
    "\\sum_{j=0}^{n}x_jl_j(x) = x^m\n",
    "\\end{equation}"
   ]
  },
  {
   "cell_type": "markdown",
   "metadata": {},
   "source": [
    "Ans. If p(x) is a polynomial of degree m that interpolates a given set of n grid points, given by $y_j$, we can write as:\n",
    "\n",
    "$p(x_j) = y_j$\n",
    "\n",
    "where $y_j$ are the points from the function $x^m$.\n",
    "\n",
    "Now, for any point $x_i$ in the domain, we can write as\n",
    "\n",
    "\\begin{equation}\n",
    "l_j(x_i) = \\prod^n_{m=0,m \\neq j} \\frac{x_i - x_m}{x_j - x_m}\n",
    "\\end{equation}\n",
    "\n",
    "We know that for $ l_j(x) $, when $i \\neq j$,  then one product in the term will be zero, thereby zeroing the entire value. \n",
    "\n",
    "\n",
    "$l_j(x_i)$ can be written as the Kronecker Delta function $\\delta_{ji}$. Therefore, if I have n grid points and I need to have a mth degree polynomial, where $m<n$, then it can be approximated as :\n",
    "\n",
    "\\begin{equation}\n",
    "p(x_i) = \\sum^n_{j = 0}y_jl_j(x_i) = \\sum^n_{j = 0}y_j \\delta_{ji} = y_i = x_i^m\n",
    "\\end{equation}\n",
    "\n",
    "In general terms, we can write as :\n",
    "\n",
    "\\begin{equation}\n",
    "p(x) = x^m \n",
    "\\end{equation}\n",
    "\n",
    "Hence, verified."
   ]
  },
  {
   "cell_type": "code",
   "execution_count": null,
   "metadata": {},
   "outputs": [],
   "source": []
  },
  {
   "cell_type": "markdown",
   "metadata": {},
   "source": [
    "Q4. \n",
    "\\begin{equation}\n",
    "H^\\alpha([-1,1]) \\subset H^\\beta([-1,1])\n",
    "\\end{equation}"
   ]
  },
  {
   "cell_type": "markdown",
   "metadata": {},
   "source": [
    "Ans. \n",
    "Take any function f(x), and if it is $\\alpha$-Holder continuous, it must satisfy:\n",
    "\n",
    "\\begin{equation}\n",
    "\\vert f(x) - f(y) \\vert \\leq C \\vert x-y \\vert^\\alpha\n",
    "\\end{equation}\n",
    "\n",
    "Also, if g(x) is a function which is $\\beta$-Holder continuous, it must satisfy:\n",
    "\n",
    "\\begin{equation}\n",
    "\\vert g(x) - g(y) \\vert \\leq C \\vert x-y \\vert^\\beta\n",
    "\\end{equation}\n",
    "\n",
    "For $\\vert x - y \\vert < 1$, if $\\alpha < \\beta$ we have\n",
    "\n",
    "$\\vert x - y \\vert^\\alpha > \\vert x - y \\vert^\\beta $, justifying the below relation:\n",
    "\n",
    "\\begin{equation}\n",
    "\\vert g(x) - g(y) \\vert \\leq C \\vert x-y \\vert^\\beta \\leq C \\vert x-y \\vert^\\alpha\n",
    "\\end{equation}\n",
    "\n",
    "For all functions $g(x)$, if they are $\\beta$-Holder functions, then they are necessarily $\\alpha$-Holder function.   "
   ]
  },
  {
   "cell_type": "code",
   "execution_count": null,
   "metadata": {},
   "outputs": [],
   "source": []
  },
  {
   "cell_type": "markdown",
   "metadata": {},
   "source": [
    "Q5. a. Continuous but not holder for any $\\alpha$>0"
   ]
  },
  {
   "cell_type": "markdown",
   "metadata": {},
   "source": [
    "Ans.\\begin{equation}\n",
    "\\delta = \n",
    "\\left\\{\\begin{array}{ll}\n",
    "0 & x = 0 \\\\\n",
    "\\frac{1}{log(x)} & x \\in (0,3/4) \n",
    "\\end{array} \\right.\n",
    "\\end{equation}\n",
    "\n",
    "The function is continuous because at x close to 0, $\\frac{1}{log(x)}$ assumes a value near to 0. FOr Holder continuity, the function must follow this identity:\n",
    "\n",
    "\\begin{equation}\n",
    "\\vert f(x) - f(y) \\vert \\leq C \\vert x-y \\vert^\\alpha\n",
    "\\end{equation}\n",
    "\n",
    "Let y = 0, then\n",
    "\n",
    "\\begin{equation}\n",
    "\\vert \\frac{1}{log(x)} \\vert \\leq C\\vert x \\vert^\\alpha\n",
    "\\end{equation}\n",
    "\n",
    "or \n",
    "\n",
    "\\begin{equation}\n",
    "1 \\leq C\\vert y \\vert^\\alpha \\vert log(x) \\vert\n",
    "\\end{equation}\n",
    "\n",
    "which is not true, because for values of x close to zero, the limit of the function is zero from L'Hospital's rule, which makes the aboe equation fail. So, not a $\\alpha$-Holder equation."
   ]
  },
  {
   "cell_type": "markdown",
   "metadata": {},
   "source": [
    "Q5. b. Lipschitz but not differentiable."
   ]
  },
  {
   "cell_type": "markdown",
   "metadata": {},
   "source": [
    "Ans. Consider the function f(x) = $\\vert x \\vert$.\n",
    "This function is lipschitz continuous because for any x and y, this holds:\n",
    "\n",
    "\\begin{equation}\n",
    "\\vert f(x) - f(y) \\vert \\leq C \\vert x-y \\vert\n",
    "\\end{equation}\n",
    "\n",
    "because \n",
    "\n",
    "\\begin{equation}\n",
    "\\vert \\vert x \\vert - \\vert y \\vert \\vert \\leq C \\vert x-y \\vert\n",
    "\\end{equation}\n",
    "\n",
    "However, at x = 0, the function is not differentiable as at x = 0, y = x and y = -x are both satisfied and their slopes are not equal."
   ]
  },
  {
   "cell_type": "markdown",
   "metadata": {},
   "source": [
    "Q5. c. Differentiable but its derivative is not continuous."
   ]
  },
  {
   "cell_type": "markdown",
   "metadata": {},
   "source": [
    "Ans. Consider the function $f(x) = xsin(1/x).\n",
    "\n",
    "We have \n",
    "\n",
    "\\begin{equation}\n",
    "g(x) = \n",
    "\\left\\{\\begin{array}{ll}\n",
    "xsin(1/x) & x \\neq 0 \\\\\n",
    "0 & x = 0 \n",
    "\\end{array} \\right.\n",
    "\\end{equation}\n",
    "\n",
    "\n",
    "\\begin{equation}\n",
    "g'(x) = \n",
    "\\left\\{\\begin{array}{ll}\n",
    "sin(1/x) - \\frac{1}{x^2}cos(1/x) & x \\neq 0 \\\\\n",
    "0 & x = 0 \n",
    "\\end{array} \\right.\n",
    "\\end{equation}\n",
    "\n",
    "Limit at x close to 0 doesn't exist but g'(0) = 0 from g(x). This is an example of a lipschitz function with a discontinuity in its derivative."
   ]
  }
 ],
 "metadata": {
  "kernelspec": {
   "display_name": "Python 3",
   "language": "python",
   "name": "python3"
  },
  "language_info": {
   "codemirror_mode": {
    "name": "ipython",
    "version": 3
   },
   "file_extension": ".py",
   "mimetype": "text/x-python",
   "name": "python",
   "nbconvert_exporter": "python",
   "pygments_lexer": "ipython3",
   "version": "3.5.2rc1"
  }
 },
 "nbformat": 4,
 "nbformat_minor": 2
}
