{
 "cells": [
  {
   "cell_type": "code",
   "execution_count": null,
   "metadata": {},
   "outputs": [],
   "source": [
    "%%javascript\n",
    "MathJax.Hub.Config({\n",
    "    TeX: { equationNumbers: { autoNumber: \"AMS\" } }\n",
    "});\n",
    "\n",
    "MathJax.Hub.Queue(\n",
    "  [\"resetEquationNumbers\", MathJax.InputJax.TeX],\n",
    "  [\"PreProcess\", MathJax.Hub],\n",
    "  [\"Reprocess\", MathJax.Hub]\n",
    ");"
   ]
  },
  {
   "cell_type": "code",
   "execution_count": null,
   "metadata": {},
   "outputs": [],
   "source": []
  },
  {
   "cell_type": "code",
   "execution_count": null,
   "metadata": {},
   "outputs": [],
   "source": [
    "Q1."
   ]
  },
  {
   "cell_type": "markdown",
   "metadata": {},
   "source": [
    "Geometrically, the condition that the nut will fit into both the blocks is given by:\n",
    "\n",
    "Case 1:\n",
    "When r > $\\vert$ r_p - r_b $\\vert$, the maximum diameter of circle that can come inside is given by the minimum of horizontal length and vertical length joining the intersection of the two circles. This is given by the following:\n",
    "\n",
    "Vertically, maximum diameter = \n",
    "\n",
    "\\begin{equation}\n",
    "    vert = \\frac{\\sqrt{(r_b + r_p + r)(r_b + r_p - r)(-r_b + r_p + r)(r_b - r_p + r)}}{2r}\n",
    "\\end{equation}\n",
    "\n",
    "and horizontally, the maximum distance will be given by \n",
    "\\begin{equation}\n",
    "    horr = \\frac{\\sqrt{(r_b^2 - vert^2)} + \\sqrt{(r_p^2 - vert^2)}}{2}\n",
    "\\end{equation}\n",
    "\n",
    "Case 2: \n",
    "When r < $\\vert$ r_p - r_b $\\vert$, the maximum radius of the circle that can come inside is given by the minimum of the two circles, since this condition means that the smaller circle lies completely within the bigger circle.\n",
    "\n",
    "Case 3: \n",
    "When $r > r_b + r_a$, this means that the circles don't have any common area within them, which means that there is zero probability of the nut going in the area. "
   ]
  },
  {
   "cell_type": "code",
   "execution_count": null,
   "metadata": {},
   "outputs": [],
   "source": [
    "import numpy as np\n",
    "import scipy as sp\n",
    "N = 1000000;\n",
    "rb = np.random.normal(25.25,0.05/3,N);\n",
    "rp = np.random.normal(25.15,0.05/3,N);\n",
    "br = np.random.normal(24.95,0.21/3,N);\n",
    "xtop = np.random.normal(100,0.2/3,N);\n",
    "ytop = np.random.normal(100,0.2/3,N);\n",
    "xbot = np.random.normal(100,0.2/3,N);\n",
    "ybot = np.random.normal(100,0.2/3,N);\n",
    "\n",
    "#rb = 25.25*sp.ones(N);\n",
    "#rp = 25.15*sp.ones(N);\n",
    "#br = 24.95*sp.ones(N);\n",
    "#xtop = 100*sp.ones(N);\n",
    "#ytop = 100*sp.ones(N);\n",
    "#xbot = 100*sp.ones(N);\n",
    "#ybot = 100*sp.ones(N);\n",
    "count1 = 0;\n",
    "count = 0;\n",
    "for i in range(0,N):\n",
    "    r = ((xbot[i]-xtop[i])**2 + (ybot[i] - ytop[i])**2)**0.5;\n",
    "    #print(r);\n",
    "    #print(abs(rb[i] - rp[i]));\n",
    "    if abs(rb[i]-rp[i]) < r:\n",
    "        temp1 = ((rb[i] + rp[i] + r)*(rb[i] + rp[i] -r)*(rb[i] - rp[i] + r)*(-rb[i] + rp[i] + r))/(4*r*r);\n",
    "        #temp = min((rb[i] + rp[i] - (rb[i]**2 + rp[i]**2)**0.5)/2,rp[i]*rb[i]/(rp[i]**2 + rb[i]**2)**0.5);\n",
    "        temp2 = (rb[i]**2 - temp1)**0.5;\n",
    "        temp3 = (rp[i]**2 - temp1)**0.5;\n",
    "        #print(temp1);\n",
    "        temp4 = rb[i] + rp[i] - temp2 - temp3;\n",
    "        horr = temp4/2;\n",
    "        vert = temp1**0.5;\n",
    "        #print(temp);\n",
    "        if br[i] > max(vert,horr):\n",
    "            count = count + 1;\n",
    "    if abs(rb[i]-rp[i]) > r:\n",
    "        if br[i] > min(rb[i],rp[i]):\n",
    "            count = count + 1;\n",
    "\n",
    "prob = count/N;\n",
    "print(\"Misfit probability : \");\n",
    "print(prob);"
   ]
  },
  {
   "cell_type": "markdown",
   "metadata": {},
   "source": [
    "Yes, the probability in fact seems low, as it means physically that not even half of the nuts will go inside. To make sure that more nuts go inside, the most viable way would be to decrease the radius of the nuts or increase the size of the holes. This is the only way it can be achieved by not increasing the costs of making the system dramatically."
   ]
  },
  {
   "cell_type": "code",
   "execution_count": null,
   "metadata": {},
   "outputs": [],
   "source": []
  },
  {
   "cell_type": "markdown",
   "metadata": {},
   "source": []
  },
  {
   "cell_type": "code",
   "execution_count": null,
   "metadata": {},
   "outputs": [],
   "source": [
    "Q2."
   ]
  },
  {
   "cell_type": "code",
   "execution_count": null,
   "metadata": {},
   "outputs": [],
   "source": [
    "#Mathematical-1\n",
    "import scipy as sp\n",
    "import numpy as np\n",
    "P = sp.zeros((4,4));\n",
    "p = 1/3;\n",
    "N_steps = 100000;\n",
    "P = [[1-p,p,0,0],[p,1-2*p,p,0],[0,p,1-2*p,p],[0,0,p,1-p]];\n",
    "#print(P);\n",
    "Rtemp = np.eye(4);\n",
    "for i in range(1,N_steps):\n",
    "    R = np.matmul(Rtemp,P);\n",
    "    Rtemp = R;\n",
    "print(R);"
   ]
  },
  {
   "cell_type": "code",
   "execution_count": null,
   "metadata": {},
   "outputs": [],
   "source": [
    "#Mathematical_Simulation\n",
    "import scipy as sp\n",
    "import random\n",
    "import numpy as np\n",
    "P = np.zeros((4,4));\n",
    "i = 1;\n",
    "p = 1/3;\n",
    "N = 100000;\n",
    "count1 = 0;\n",
    "count2 = 0;\n",
    "count3 = 0;\n",
    "count4 = 0;\n",
    "p1 = 0;\n",
    "p2 = 0;\n",
    "p3 = 0;\n",
    "p4 = 0;\n",
    "for j in range(1,N):\n",
    "    x = random.uniform(0,1);\n",
    "    if i == 1:\n",
    "        if x<1-p:\n",
    "            i = 1;\n",
    "            count1 = count1 + 1;\n",
    "        else:\n",
    "            i = 2;\n",
    "            count2 = count2 + 1;\n",
    "    elif i==2:\n",
    "        if x<p:\n",
    "            i = 1;\n",
    "            count1 = count1 + 1;\n",
    "        elif x>p and x<(1-p):\n",
    "            i = 2;\n",
    "            count2 = count2 + 1;\n",
    "        else:\n",
    "            i = 3;\n",
    "            count3 = count3 + 1;\n",
    "    elif i == 3:\n",
    "        if x<p:\n",
    "            i = 2;\n",
    "            count2 = count2 + 1;\n",
    "        elif x>p and x<(1-p):\n",
    "            i = 3;\n",
    "            count3 = count3 + 1;\n",
    "        else:\n",
    "            i = 4;\n",
    "            count4 = count4 + 1;\n",
    "    elif i == 4:\n",
    "        if x<p:\n",
    "            i = 3;\n",
    "            count3 = count3 + 1;\n",
    "        else:\n",
    "            i = 4;\n",
    "            count4 = count4 + 1;\n",
    "\n",
    "p1 = count1/N;\n",
    "p2 = count2/N;\n",
    "p3 = count3/N;\n",
    "p4 = count4/N;\n",
    "print(p1);\n",
    "print(p2);\n",
    "print(p3);\n",
    "print(p4);"
   ]
  },
  {
   "cell_type": "markdown",
   "metadata": {},
   "source": [
    "This can also be shown by solving the equations.\n",
    "\n",
    "If $\\pi_0, \\pi_1, \\pi_2$ and $\\pi_3$ are the probabilities of achieving state 1, 2, 3 and 4 respectively in steady state, we can write the equations as:\n",
    "\n",
    "\\begin{equation}\n",
    "    (1-p)\\pi_0 + p \\pi_1 = \\pi_0\n",
    "\\end{equation}\n",
    "\n",
    "\\begin{equation}\n",
    "    p\\pi_0 + (1-2p) \\pi_1 + p \\pi_2 = \\pi_1\n",
    "\\end{equation}\n",
    "\n",
    "\\begin{equation}\n",
    "    p\\pi_1 + (1-2p) \\pi_2 + p \\pi_3 = \\pi_2\n",
    "\\end{equation}\n",
    "\n",
    "\\begin{equation}\n",
    "    \\pi_0 + \\pi_1 + \\pi_2 + \\pi_3 = 1\n",
    "\\end{equation}\n",
    "\n",
    "which can be written as:\n",
    "\n",
    "\\begin{equation}\n",
    "    \\frac{1}{3}\\pi_0 - \\frac{1}{3}\\pi_1 = 0\n",
    "\\end{equation}\n",
    "\n",
    "\\begin{equation}\n",
    "    \\frac{1}{3}\\pi_0 - \\frac{2}{3}\\pi_1 + \\frac{1}{3}\\pi_2 = 0\n",
    "\\end{equation}\n",
    "\n",
    "\\begin{equation}\n",
    "    \\frac{1}{3}\\pi_2 - \\frac{1}{3}\\pi_3 = 0\n",
    "\\end{equation}\n",
    "\n",
    "\\begin{equation}\n",
    "    \\pi_0 + \\pi_1 + \\pi_2 + \\pi_3 = 1\n",
    "\\end{equation}\n",
    "\n",
    "which gives\n",
    "\n",
    "\\begin{equation}\n",
    "    \\pi_0 = \\pi_1 = \\pi_2 = \\pi_3 = \\frac{1}{4}\n",
    "\\end{equation}"
   ]
  },
  {
   "cell_type": "code",
   "execution_count": null,
   "metadata": {},
   "outputs": [],
   "source": []
  },
  {
   "cell_type": "code",
   "execution_count": null,
   "metadata": {},
   "outputs": [],
   "source": []
  },
  {
   "cell_type": "code",
   "execution_count": 6,
   "metadata": {},
   "outputs": [
    {
     "data": {
      "image/png": "[encoded data removed]",
      "text/plain": [
       "<Figure size 432x288 with 1 Axes>"
      ]
     },
     "metadata": {
      "needs_background": "light"
     },
     "output_type": "display_data"
    }
   ],
   "source": [
    "#Part a\n",
    "import scipy as sp\n",
    "import random\n",
    "import numpy as np\n",
    "def my_func(t):\n",
    "    f = sp.cos(2*sp.pi*(1-t**2)**0.5);\n",
    "    return f;\n",
    "\n",
    "power = sp.arange(2,14);\n",
    "Num = 2**power;\n",
    "val = 0;\n",
    "sum = 0;\n",
    "N_sim = 100;\n",
    "prob = sp.zeros((len(Num),N_sim));\n",
    "for k in range(1,len(Num)):\n",
    "    N = Num[k];\n",
    "    for j in range(1,N_sim):\n",
    "        sum = 0;\n",
    "        for i in range(1,N):\n",
    "            x = random.uniform(0,1);\n",
    "            val = my_func(x);\n",
    "            sum = sum + val;\n",
    "        p = sum/N;\n",
    "        prob[k,j] = p;\n",
    "\n",
    "import matplotlib.pyplot as plt\n",
    "for i in range(1,len(Num)):\n",
    "    for j in range(1,N_sim):\n",
    "        plt.semilogx(Num[i],prob[i,j],'+');\n",
    "        plt.semilogx(Num,0.35 + (1/Num)**0.5);\n",
    "        plt.semilogx(Num,0.35 - (1/Num)**0.5);\n",
    "\n",
    "        \n",
    "plt.xlabel('Number of trials');\n",
    "plt.ylabel('Value of function');\n",
    "plt.title('Probability Estimation');\n",
    "plt.show();"
   ]
  },
  {
   "cell_type": "code",
   "execution_count": 7,
   "metadata": {},
   "outputs": [
    {
     "data": {
      "image/png": "[encoded data removed]",
      "text/plain": [
       "<Figure size 432x288 with 1 Axes>"
      ]
     },
     "metadata": {
      "needs_background": "light"
     },
     "output_type": "display_data"
    }
   ],
   "source": [
    "#Part B\n",
    "import numpy as np\n",
    "import scipy as sp\n",
    "import random\n",
    "import matplotlib.pyplot as plt\n",
    "def computepi(Num,N_sim):\n",
    "    count = 0;\n",
    "    prob = np.zeros((len(Num),N_sim));\n",
    "    for k in range(1,len(Num)):\n",
    "        N = Num[k];\n",
    "        X = np.zeros(N);\n",
    "        Y = np.zeros(N);\n",
    "        f = np.zeros(N);\n",
    "        for j in range(1,N_sim):\n",
    "            count = 0;\n",
    "            for i in range(N):\n",
    "                X[i] = random.uniform(0,1);\n",
    "            for i in range(N):\n",
    "                Y[i] = random.uniform(0,1);\n",
    "            f = sp.cos(2*sp.pi*((1-X**2)**0.5));\n",
    "            for i in range(1,N):\n",
    "                if f[i] > 0:\n",
    "                    if f[i] > Y[i]:\n",
    "                        count = count + 1;\n",
    "                if f[i] < 0:\n",
    "                    if abs(f[i]) > Y[i]:\n",
    "                        count = count - 1;\n",
    "            prob[k,j] = count/N;\n",
    "\n",
    "    for i in range(1,len(Num)):\n",
    "        for j in range(1,N_sim):\n",
    "            plt.semilogx(Num[i],prob[i,j],'+');\n",
    "            plt.semilogx(Num,0.35 + (1/Num)**0.5);\n",
    "            plt.semilogx(Num,0.35 - (1/Num)**0.5);\n",
    "    plt.xlabel('Number of trials');\n",
    "    plt.ylabel('Value of function');\n",
    "    plt.title('Probability Estimation');\n",
    "    plt.show();\n",
    "\n",
    "power = sp.arange(2,14);\n",
    "Num = 2**power;\n",
    "N_sim = 200;\n",
    "computepi(Num,N_sim)"
   ]
  },
  {
   "cell_type": "code",
   "execution_count": null,
   "metadata": {},
   "outputs": [],
   "source": []
  }
 ],
 "metadata": {
  "kernelspec": {
   "display_name": "Python 3",
   "language": "python",
   "name": "python3"
  },
  "language_info": {
   "codemirror_mode": {
    "name": "ipython",
    "version": 3
   },
   "file_extension": ".py",
   "mimetype": "text/x-python",
   "name": "python",
   "nbconvert_exporter": "python",
   "pygments_lexer": "ipython3",
   "version": "3.5.2rc1"
  }
 },
 "nbformat": 4,
 "nbformat_minor": 2
}
